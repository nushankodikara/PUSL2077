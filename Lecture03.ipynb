{
 "cells": [
  {
   "cell_type": "markdown",
   "source": [
    "# Dictionaries"
   ],
   "metadata": {
    "collapsed": false
   },
   "id": "821d7f451a9e6bc3"
  },
  {
   "cell_type": "markdown",
   "source": [
    "## Looping Through all the items"
   ],
   "metadata": {
    "collapsed": false
   },
   "id": "8d3cf0bf271b054a"
  },
  {
   "cell_type": "code",
   "execution_count": 1,
   "id": "initial_id",
   "metadata": {
    "collapsed": true,
    "ExecuteTime": {
     "end_time": "2024-02-20T03:39:04.718086Z",
     "start_time": "2024-02-20T03:39:04.710337Z"
    }
   },
   "outputs": [],
   "source": [
    "fav_numbers = {\n",
    "    'eric': 17,\n",
    "    'ever': 4,\n",
    "    'willie': 10,\n",
    "    'arthur': 7,\n",
    "    'john': 13,\n",
    "    }"
   ]
  },
  {
   "cell_type": "code",
   "outputs": [],
   "source": [
    "for name, number in fav_numbers.items():\n",
    "    print(name, \" \", str(number))"
   ],
   "metadata": {
    "collapsed": false
   },
   "id": "c1a3205e3b9889c9",
   "execution_count": null
  },
  {
   "cell_type": "markdown",
   "source": [
    "# Tuples\n",
    "\n",
    "- Tuples are immutable\n",
    "- Cannot alter individual items"
   ],
   "metadata": {
    "collapsed": false
   },
   "id": "ada3ae63030812fa"
  },
  {
   "cell_type": "code",
   "outputs": [],
   "source": [
    "tup1 = () # Empty Tuple\n",
    "tup2 = (10,20,30) # Tuple with 3 integers\n",
    "tup3 = (\"one\", \"two\", \"three\") # Tuple with 3 strings\n",
    "tup4 = (10, \"twenty\", (10,20)) # Nested Tuple\n",
    "tup5 = (10, \"twenty\", 30.5) # Tuple with different data types\n",
    "tup6 = (\"one\", \"two\", \"three\", \"four\", \"five\", \"six\", \"seven\", \"eight\") # Tuple with 6 elements"
   ],
   "metadata": {
    "collapsed": false
   },
   "id": "557e8f5909c01f5c",
   "execution_count": null
  },
  {
   "cell_type": "code",
   "outputs": [],
   "source": [
    "print(tup6[2:5])\n",
    "print(tup6[0:2])\n",
    "print(tup6[5:])\n",
    "print(tup6[:5])\n",
    "print(tup6[-2:])\n",
    "for x in tup6:\n",
    "    print(x)\n",
    "for x in enumerate(tup6):\n",
    "    print(x)"
   ],
   "metadata": {
    "collapsed": false
   },
   "id": "46785b1877ef4c71",
   "execution_count": null
  },
  {
   "cell_type": "markdown",
   "source": [
    "# Activity"
   ],
   "metadata": {
    "collapsed": false
   },
   "id": "f06321367a9c26c5"
  },
  {
   "cell_type": "code",
   "outputs": [
    {
     "name": "stdout",
     "output_type": "stream",
     "text": [
      "Version \t:  3.11.0 (v3.11.0:deaf509e8f, Oct 24 2022, 14:43:23) [Clang 13.0.0 (clang-1300.0.29.30)]\n"
     ]
    }
   ],
   "source": [
    "# Get python version\n",
    "import sys\n",
    "print(\"Version \\t: \", sys.version)"
   ],
   "metadata": {
    "collapsed": false,
    "ExecuteTime": {
     "end_time": "2024-02-13T04:42:36.675010Z",
     "start_time": "2024-02-13T04:42:36.671578Z"
    }
   },
   "id": "5294de52985291",
   "execution_count": 4
  },
  {
   "cell_type": "code",
   "outputs": [
    {
     "name": "stdout",
     "output_type": "stream",
     "text": [
      "Current Date and Time \t:  2024-02-13 10:12:38.910219\n"
     ]
    }
   ],
   "source": [
    "# Get current date and time\n",
    "from datetime import datetime\n",
    "print(\"Current Date and Time \\t: \",datetime.now())"
   ],
   "metadata": {
    "collapsed": false,
    "ExecuteTime": {
     "end_time": "2024-02-13T04:42:39.018755Z",
     "start_time": "2024-02-13T04:42:38.910622Z"
    }
   },
   "id": "e53b9f0e252c2796",
   "execution_count": 5
  },
  {
   "cell_type": "code",
   "outputs": [
    {
     "name": "stdout",
     "output_type": "stream",
     "text": [
      "Kodikara   Nushan\n"
     ]
    }
   ],
   "source": [
    "f_name = input(\"Enter your first name\\t: \")\n",
    "l_name = input(\"Enter your last name\\t: \")\n",
    "print(l_name,\" \",f_name)"
   ],
   "metadata": {
    "collapsed": false,
    "ExecuteTime": {
     "end_time": "2024-02-13T04:42:24.804471Z",
     "start_time": "2024-02-13T04:42:16.051382Z"
    }
   },
   "id": "3244734efc872585",
   "execution_count": 3
  },
  {
   "cell_type": "markdown",
   "source": [
    "Python program that accepts a sequence of comma-separated numbers from the user and generates a list and a tuple of those numbers"
   ],
   "metadata": {
    "collapsed": false
   },
   "id": "127491aea09f2bff"
  },
  {
   "cell_type": "code",
   "outputs": [
    {
     "name": "stdout",
     "output_type": "stream",
     "text": [
      "List :  ('4', '5', '2', '6', '2', '3', '4', '2', '6', '66', '5')\n"
     ]
    }
   ],
   "source": [
    "values = input(\"Enter some comma separated numbers : \")\n",
    "lst = values.split(\",\")\n",
    "tpl = tuple(lst)\n",
    "print(\"List \\t: \", tpl)"
   ],
   "metadata": {
    "collapsed": false,
    "ExecuteTime": {
     "end_time": "2024-02-13T04:37:39.150981Z",
     "start_time": "2024-02-13T04:37:31.839287Z"
    }
   },
   "id": "6f5f6f8bc7d212e9",
   "execution_count": 2
  },
  {
   "cell_type": "code",
   "outputs": [
    {
     "name": "stdout",
     "output_type": "stream",
     "text": [
      "First \t:  Red\n",
      "Last \t:  Black\n"
     ]
    }
   ],
   "source": [
    "color_list = [\"Red\",\"Green\",\"White\" ,\"Black\"]\n",
    "print(\"First \\t: \",color_list[0])\n",
    "print(\"Last \\t: \",color_list[-1])"
   ],
   "metadata": {
    "collapsed": false,
    "ExecuteTime": {
     "end_time": "2024-02-13T04:42:06.730551Z",
     "start_time": "2024-02-13T04:42:06.726936Z"
    }
   },
   "id": "94afa9eca1f4b4dd",
   "execution_count": 2
  },
  {
   "cell_type": "markdown",
   "source": [
    "# Sets\n",
    "- Does not keep duplicate values\n",
    "- Unordered\n",
    "- Cannot access items by index\n",
    "- Cannot change items\n",
    "- Cannot add items using append\n",
    "- Cannot remove items using pop\n",
    "- Can add items using add\n",
    "- Can remove items using remove\n",
    "- Can use union, intersection, difference, symmetric difference\n",
    "- Can use issubset, issuperset, isdisjoint\n",
    "- Can use copy, clear, discard\n",
    "- Can use update, intersection_update, difference_update, symmetric_difference_update\n",
    "- Can use pop\n",
    "- Can use len, min, max\n",
    "- Can use any, all\n",
    "- Can use sorted"
   ],
   "metadata": {
    "collapsed": false
   },
   "id": "67ef19e35b89bac2"
  },
  {
   "cell_type": "code",
   "outputs": [
    {
     "name": "stdout",
     "output_type": "stream",
     "text": [
      "Union \t:  {1, 2, 3, 4, 5, 6, 7, 8}\n",
      "Intersection \t:  {4, 5}\n",
      "Difference \t:  {1, 2, 3}\n",
      "Symmetric Difference \t:  {1, 2, 3, 6, 7, 8}\n"
     ]
    }
   ],
   "source": [
    "first_set = {1,2,3,4,5}\n",
    "second_set = {4,5,6,7,8}\n",
    "print(\"Union \\t: \", first_set | second_set)\n",
    "print(\"Intersection \\t: \", first_set & second_set)\n",
    "print(\"Difference \\t: \", first_set - second_set)\n",
    "print(\"Symmetric Difference \\t: \", first_set ^ second_set)"
   ],
   "metadata": {
    "collapsed": false,
    "ExecuteTime": {
     "end_time": "2024-02-13T05:00:16.807015Z",
     "start_time": "2024-02-13T05:00:16.803115Z"
    }
   },
   "id": "c3246646df2af031",
   "execution_count": 12
  },
  {
   "cell_type": "code",
   "outputs": [
    {
     "name": "stdout",
     "output_type": "stream",
     "text": [
      "Union \t:  {1, 2, 3, 4, 5, 6, 7, 8}\n",
      "Intersection \t:  {4, 5}\n",
      "Difference \t:  {1, 2, 3}\n",
      "Symmetric Difference \t:  {1, 2, 3, 6, 7, 8}\n"
     ]
    }
   ],
   "source": [
    "print(\"Union \\t: \", first_set.union(second_set))\n",
    "print(\"Intersection \\t: \", first_set.intersection(second_set))\n",
    "print(\"Difference \\t: \", first_set.difference(second_set))\n",
    "print(\"Symmetric Difference \\t: \", first_set.symmetric_difference(second_set))"
   ],
   "metadata": {
    "collapsed": false,
    "ExecuteTime": {
     "end_time": "2024-02-13T05:00:17.859546Z",
     "start_time": "2024-02-13T05:00:17.855401Z"
    }
   },
   "id": "f6da775fae86c6c6",
   "execution_count": 13
  },
  {
   "cell_type": "code",
   "outputs": [
    {
     "name": "stdout",
     "output_type": "stream",
     "text": [
      "Is B subset of A \t:  True\n",
      "Is C subset of A \t:  True\n",
      "Is A superset of B \t:  True\n",
      "Is A superset of C \t:  True\n",
      "Is A disjoint of B \t:  False\n",
      "Is A disjoint of C \t:  False\n"
     ]
    }
   ],
   "source": [
    "set_A = {1,2,3,4,5,6,7,8,9,10}\n",
    "set_B = {3,5,6,7}\n",
    "set_C = {1,2,3}\n",
    "\n",
    "print(\"Is B subset of A \\t: \", set_B.issubset(set_A))\n",
    "print(\"Is C subset of A \\t: \", set_C.issubset(set_A))\n",
    "print(\"Is A superset of B \\t: \", set_A.issuperset(set_B))\n",
    "print(\"Is A superset of C \\t: \", set_A.issuperset(set_C))\n",
    "print(\"Is A disjoint of B \\t: \", set_A.isdisjoint(set_B))\n",
    "print(\"Is A disjoint of C \\t: \", set_A.isdisjoint(set_C))"
   ],
   "metadata": {
    "collapsed": false,
    "ExecuteTime": {
     "end_time": "2024-02-13T05:07:54.000556Z",
     "start_time": "2024-02-13T05:07:53.995786Z"
    }
   },
   "id": "d826098389caed5c",
   "execution_count": 14
  },
  {
   "cell_type": "markdown",
   "source": [
    "# User Defined Functions"
   ],
   "metadata": {
    "collapsed": false
   },
   "id": "fc662f505f0912c9"
  },
  {
   "cell_type": "code",
   "outputs": [
    {
     "name": "stdout",
     "output_type": "stream",
     "text": [
      "16\n"
     ]
    }
   ],
   "source": [
    "def findPower(a,b):\n",
    "    return(a**b)\n",
    "\n",
    "a = findPower(2,4)\n",
    "print(a)"
   ],
   "metadata": {
    "collapsed": false,
    "ExecuteTime": {
     "end_time": "2024-02-13T05:41:37.121956Z",
     "start_time": "2024-02-13T05:41:37.115640Z"
    }
   },
   "id": "204f9d135c86b904",
   "execution_count": 16
  },
  {
   "cell_type": "markdown",
   "source": [
    "# Activity\n",
    "- Write a program to find the smallest number in a list"
   ],
   "metadata": {
    "collapsed": false
   },
   "id": "3b92d3d5645bceae"
  },
  {
   "cell_type": "code",
   "outputs": [
    {
     "name": "stdout",
     "output_type": "stream",
     "text": [
      "Smallest number in the list is \t:  1\n"
     ]
    }
   ],
   "source": [
    "list = [11,16,1,10,9,20]\n",
    "\n",
    "min = list[0]\n",
    "for i in list:\n",
    "    if i < min:\n",
    "        min = i\n",
    "\n",
    "print(\"Smallest number in the list is \\t: \", min)"
   ],
   "metadata": {
    "collapsed": false,
    "ExecuteTime": {
     "end_time": "2024-02-13T05:42:50.159225Z",
     "start_time": "2024-02-13T05:42:50.151218Z"
    }
   },
   "id": "6c9936ebb1b16d99",
   "execution_count": 17
  },
  {
   "cell_type": "code",
   "outputs": [
    {
     "name": "stdout",
     "output_type": "stream",
     "text": [
      "Smallest number in the list is \t:  1\n"
     ]
    }
   ],
   "source": [
    "def findMin(list):\n",
    "    min = list[0]\n",
    "    for i in list:\n",
    "        if i < min:\n",
    "            min = i\n",
    "    return min\n",
    "\n",
    "list = [11,16,1,10,9,20]\n",
    "print(\"Smallest number in the list is \\t: \", findMin(list))"
   ],
   "metadata": {
    "collapsed": false,
    "ExecuteTime": {
     "end_time": "2024-02-13T05:52:01.800981Z",
     "start_time": "2024-02-13T05:52:01.791423Z"
    }
   },
   "id": "e8ea2c9ad7b4179a",
   "execution_count": 18
  },
  {
   "cell_type": "markdown",
   "source": [
    "### Function to get a sentence and return the number of words"
   ],
   "metadata": {
    "collapsed": false
   },
   "id": "2d45dfd90cb2fa36"
  },
  {
   "cell_type": "code",
   "outputs": [
    {
     "name": "stdout",
     "output_type": "stream",
     "text": [
      "Number of words in the sentence \t:  6\n"
     ]
    }
   ],
   "source": [
    "def countWords(sentence):\n",
    "    words = sentence.split()\n",
    "    return len(words)\n",
    "\n",
    "sentence = \"Welcome to Introduction to Programming Module\"\n",
    "print(\"Number of words in the sentence \\t: \", countWords(sentence))"
   ],
   "metadata": {
    "collapsed": false,
    "ExecuteTime": {
     "end_time": "2024-02-13T05:56:21.362800Z",
     "start_time": "2024-02-13T05:56:21.358650Z"
    }
   },
   "id": "ab2349aea29aff37",
   "execution_count": 19
  },
  {
   "cell_type": "markdown",
   "source": [
    "# Lambda Functions"
   ],
   "metadata": {
    "collapsed": false
   },
   "id": "877848c52d042a47"
  },
  {
   "cell_type": "code",
   "outputs": [
    {
     "name": "stdout",
     "output_type": "stream",
     "text": [
      "15\n"
     ]
    }
   ],
   "source": [
    "x = lambda a : a + 10\n",
    "print(x(5))"
   ],
   "metadata": {
    "collapsed": false,
    "ExecuteTime": {
     "end_time": "2024-02-13T06:11:56.584176Z",
     "start_time": "2024-02-13T06:11:56.582771Z"
    }
   },
   "id": "476634e519c6df6",
   "execution_count": 20
  },
  {
   "cell_type": "markdown",
   "source": [
    "- Lambda function to add 3 numbers"
   ],
   "metadata": {
    "collapsed": false
   },
   "id": "b9b807d6d01ddf3b"
  },
  {
   "cell_type": "code",
   "outputs": [
    {
     "name": "stdout",
     "output_type": "stream",
     "text": [
      "13\n"
     ]
    }
   ],
   "source": [
    "x = lambda a,b,c : a + b + c\n",
    "print(x(5,6,2))"
   ],
   "metadata": {
    "collapsed": false,
    "ExecuteTime": {
     "end_time": "2024-02-13T06:12:42.750013Z",
     "start_time": "2024-02-13T06:12:42.737232Z"
    }
   },
   "id": "8ff8d2478b40ae64",
   "execution_count": 21
  },
  {
   "cell_type": "markdown",
   "source": [
    "# NumPy\n",
    "- Functions to work with numbers and arrays"
   ],
   "metadata": {
    "collapsed": false
   },
   "id": "c1c93d0e498432f8"
  },
  {
   "cell_type": "markdown",
   "source": [
    "# Pandas\n",
    "- Analyze Data"
   ],
   "metadata": {
    "collapsed": false
   },
   "id": "ec2a15be3b587dcf"
  },
  {
   "cell_type": "markdown",
   "source": [
    "# SciPy\n",
    "- Scientific and Technical Computing"
   ],
   "metadata": {
    "collapsed": false
   },
   "id": "5cbd9b8b3e1c4c27"
  },
  {
   "cell_type": "code",
   "outputs": [],
   "source": [],
   "metadata": {
    "collapsed": false
   },
   "id": "3cb08e765db38bc1"
  }
 ],
 "metadata": {
  "kernelspec": {
   "display_name": "Python 3",
   "language": "python",
   "name": "python3"
  },
  "language_info": {
   "codemirror_mode": {
    "name": "ipython",
    "version": 2
   },
   "file_extension": ".py",
   "mimetype": "text/x-python",
   "name": "python",
   "nbconvert_exporter": "python",
   "pygments_lexer": "ipython2",
   "version": "2.7.6"
  }
 },
 "nbformat": 4,
 "nbformat_minor": 5
}
