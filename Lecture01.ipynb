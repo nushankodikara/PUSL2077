{
 "cells": [
  {
   "cell_type": "code",
   "execution_count": 1,
   "id": "initial_id",
   "metadata": {
    "ExecuteTime": {
     "end_time": "2024-01-29T04:42:27.198725Z",
     "start_time": "2024-01-29T04:42:27.193019Z"
    }
   },
   "outputs": [
    {
     "name": "stdout",
     "output_type": "stream",
     "text": [
      "Hello World!\n"
     ]
    }
   ],
   "source": [
    "print(\"Hello World!\")"
   ]
  },
  {
   "cell_type": "markdown",
   "id": "7d15bd06bd0bc4a8",
   "metadata": {
    "collapsed": false
   },
   "source": [
    "# Allow user to input two numbers and get the sum"
   ]
  },
  {
   "cell_type": "code",
   "execution_count": 2,
   "id": "f6cccde5a5d13ee5",
   "metadata": {
    "ExecuteTime": {
     "end_time": "2024-01-29T04:50:38.480263Z",
     "start_time": "2024-01-29T04:50:35.001024Z"
    },
    "collapsed": false
   },
   "outputs": [
    {
     "name": "stdin",
     "output_type": "stream",
     "text": [
      "Enter a number:  30\n",
      "Enter another number:  45\n"
     ]
    },
    {
     "name": "stdout",
     "output_type": "stream",
     "text": [
      "The sum of the two numbers is:  75\n"
     ]
    }
   ],
   "source": [
    "a = input(\"Enter a number: \")\n",
    "b = input(\"Enter another number: \")\n",
    "print(\"The sum of the two numbers is: \", int(a)+int(b))"
   ]
  },
  {
   "cell_type": "markdown",
   "source": [
    "## Python program to get User's name and age and display greeting"
   ],
   "metadata": {
    "collapsed": false
   },
   "id": "d9dd4e17caac02db"
  },
  {
   "cell_type": "code",
   "outputs": [
    {
     "name": "stdout",
     "output_type": "stream",
     "text": [
      "Hello Nushan and you are 23 Years old\n"
     ]
    }
   ],
   "source": [
    "a = input(\"Enter your name: \")\n",
    "b = int(input(\"Enter your age: \"))\n",
    "print(\"Hello {0} and you are {1} Years old\".format(a,b))"
   ],
   "metadata": {
    "collapsed": false,
    "ExecuteTime": {
     "end_time": "2024-01-29T04:54:52.348611Z",
     "start_time": "2024-01-29T04:54:49.103724Z"
    }
   },
   "id": "d883f7eba1476300",
   "execution_count": 9
  },
  {
   "cell_type": "markdown",
   "source": [
    "## String Operations"
   ],
   "metadata": {
    "collapsed": false
   },
   "id": "9faa0354e6f50520"
  },
  {
   "cell_type": "code",
   "outputs": [
    {
     "name": "stdout",
     "output_type": "stream",
     "text": [
      "Nsbm\n",
      "Nsbm\n",
      "NSBM\n",
      "nsbm\n"
     ]
    }
   ],
   "source": [
    "name = \"NSBM\"\n",
    "print(name.capitalize())\n",
    "print(name.title())\n",
    "print(name.upper())\n",
    "print(name.lower())"
   ],
   "metadata": {
    "collapsed": false,
    "ExecuteTime": {
     "end_time": "2024-01-29T05:14:07.665743Z",
     "start_time": "2024-01-29T05:14:07.653291Z"
    }
   },
   "id": "cf3f35b02f4666d1",
   "execution_count": 10
  },
  {
   "cell_type": "markdown",
   "source": [
    "## Arithmatic Operations"
   ],
   "metadata": {
    "collapsed": false
   },
   "id": "7f2d3ce11aba881c"
  },
  {
   "cell_type": "code",
   "outputs": [
    {
     "name": "stdout",
     "output_type": "stream",
     "text": [
      "30\n",
      "-10\n",
      "200\n",
      "0.5\n",
      "10\n",
      "100000000000000000000\n",
      "2\n"
     ]
    }
   ],
   "source": [
    "a = 10\n",
    "b = 20\n",
    "print(a+b) # Addition\n",
    "print(a-b) # Subtraction\n",
    "print(a*b) # Multiplication\n",
    "print(a/b) # Division\n",
    "print(a%b) # Modulus\n",
    "print(a**b) # Exponent\n",
    "print(b//a) # Floor Division"
   ],
   "metadata": {
    "collapsed": false,
    "ExecuteTime": {
     "end_time": "2024-01-29T05:17:03.912427Z",
     "start_time": "2024-01-29T05:17:03.906769Z"
    }
   },
   "id": "779195ce5670b590",
   "execution_count": 12
  },
  {
   "cell_type": "markdown",
   "source": [
    "## Comparision Operations"
   ],
   "metadata": {
    "collapsed": false
   },
   "id": "b5d88ec5fc71a045"
  },
  {
   "cell_type": "code",
   "outputs": [
    {
     "name": "stdout",
     "output_type": "stream",
     "text": [
      "False\n",
      "True\n",
      "False\n",
      "True\n",
      "False\n",
      "True\n"
     ]
    }
   ],
   "source": [
    "a = 10\n",
    "b = 20\n",
    "print(a==b) # Equal to\n",
    "print(a!=b) # Not Equal to\n",
    "print(a>b) # Greater than\n",
    "print(a<b) # Less than\n",
    "print(a>=b) # Greater than or equal to\n",
    "print(a<=b) # Less than or equal to"
   ],
   "metadata": {
    "collapsed": false,
    "ExecuteTime": {
     "end_time": "2024-01-29T05:20:47.842941Z",
     "start_time": "2024-01-29T05:20:47.838041Z"
    }
   },
   "id": "aea7f1e6e4054d51",
   "execution_count": 13
  },
  {
   "cell_type": "markdown",
   "source": [
    "## If Statements"
   ],
   "metadata": {
    "collapsed": false
   },
   "id": "ab8a90959fb33dfd"
  },
  {
   "cell_type": "code",
   "outputs": [
    {
     "name": "stdout",
     "output_type": "stream",
     "text": [
      "The maximum number is:  6\n"
     ]
    }
   ],
   "source": [
    "n1 = int(input(\"Enter a number: \"))\n",
    "n2 = int(input(\"Enter another number: \"))\n",
    "if n1>n2:\n",
    "    max = n1\n",
    "else:\n",
    "    max = n2\n",
    "print(\"The maximum number is: \", max)"
   ],
   "metadata": {
    "collapsed": false,
    "ExecuteTime": {
     "end_time": "2024-01-29T06:19:17.766801Z",
     "start_time": "2024-01-29T06:19:15.764714Z"
    }
   },
   "id": "beffa8e426916316",
   "execution_count": 14
  },
  {
   "cell_type": "code",
   "outputs": [
    {
     "name": "stdout",
     "output_type": "stream",
     "text": [
      "A\n"
     ]
    }
   ],
   "source": [
    "marks = int(input(\"Enter your marks: \"))\n",
    "if marks>=75:\n",
    "    print(\"A\")\n",
    "elif marks>65:\n",
    "    print(\"B\")\n",
    "elif marks>50:\n",
    "    print(\"C\")\n",
    "elif marks>35:\n",
    "    print(\"S\")\n",
    "else:\n",
    "    print(\"F\")"
   ],
   "metadata": {
    "collapsed": false,
    "ExecuteTime": {
     "end_time": "2024-01-29T06:29:44.218908Z",
     "start_time": "2024-01-29T06:29:41.778227Z"
    }
   },
   "id": "559246066adaa407",
   "execution_count": 16
  },
  {
   "cell_type": "markdown",
   "source": [
    "## Inbuilt funcitons"
   ],
   "metadata": {
    "collapsed": false
   },
   "id": "743ad4a853de8f1f"
  },
  {
   "cell_type": "code",
   "outputs": [
    {
     "name": "stdout",
     "output_type": "stream",
     "text": [
      "Hello World!\n",
      "Python--Programming\n"
     ]
    },
    {
     "data": {
      "text/plain": "4396313184"
     },
     "execution_count": 29,
     "metadata": {},
     "output_type": "execute_result"
    }
   ],
   "source": [
    "print(\"Hello World!\") # Print function\n",
    "print(\"Python\",\"Programming\",sep=\"--\") # Print function with separator\n",
    "pow(2,3) # Power function\n",
    "pow(2,3,5) # Power function with modulus\n",
    "type(10) # Type function - Returns Datatype\n",
    "round(3.14159,2) # Round function\n",
    "int(3.14159) # Integer function\n",
    "float(3) # Float function\n",
    "str(3.14159) # String function\n",
    "ord('a') # Ord function - Returns ASCII value\n",
    "min(1,2,3,4,5) # Min function\n",
    "max(1,2,3,4,5) # Max function\n",
    "sorted([1,2,3,4,5]) # Sorted function\n",
    "len(\"Hello World!\") # Length function\n",
    "id(10) # ID function - Returns memory location\n",
    "a = 10\n",
    "b = 10\n",
    "print(a is b) # Is function - Returns True if both variables are pointing to the same memory location\n"
   ],
   "metadata": {
    "collapsed": false,
    "ExecuteTime": {
     "end_time": "2024-01-29T06:52:07.832279Z",
     "start_time": "2024-01-29T06:52:07.825650Z"
    }
   },
   "id": "62c472d8106ef083",
   "execution_count": 29
  },
  {
   "cell_type": "code",
   "outputs": [],
   "source": [],
   "metadata": {
    "collapsed": false
   },
   "id": "e034ed7c1f658626"
  }
 ],
 "metadata": {
  "kernelspec": {
   "display_name": "Python 3 (ipykernel)",
   "language": "python",
   "name": "python3"
  },
  "language_info": {
   "codemirror_mode": {
    "name": "ipython",
    "version": 3
   },
   "file_extension": ".py",
   "mimetype": "text/x-python",
   "name": "python",
   "nbconvert_exporter": "python",
   "pygments_lexer": "ipython3",
   "version": "3.11.0"
  }
 },
 "nbformat": 4,
 "nbformat_minor": 5
}
