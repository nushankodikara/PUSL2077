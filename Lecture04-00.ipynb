{
 "cells": [
  {
   "cell_type": "markdown",
   "source": [
    "# Exercise"
   ],
   "metadata": {
    "collapsed": false
   },
   "id": "16e151af32174cb7"
  },
  {
   "cell_type": "code",
   "execution_count": 6,
   "id": "initial_id",
   "metadata": {
    "collapsed": true,
    "ExecuteTime": {
     "end_time": "2024-02-20T03:51:26.745472Z",
     "start_time": "2024-02-20T03:51:26.737092Z"
    }
   },
   "outputs": [
    {
     "name": "stdout",
     "output_type": "stream",
     "text": [
      "Nushan Kodikara - 22 - 22.2\n"
     ]
    }
   ],
   "source": [
    "name = \"Nushan Kodikara\"\n",
    "age = 22\n",
    "batch = \"22.2\"\n",
    "print(\"{0} - {1} - {2}\".format(name, age, batch))"
   ]
  },
  {
   "cell_type": "code",
   "outputs": [
    {
     "name": "stdout",
     "output_type": "stream",
     "text": [
      "This is letter \"A\"\n",
      "This is backlash '\\'\n"
     ]
    }
   ],
   "source": [
    "print('This is letter \"A\"')\n",
    "print(\"This is backlash '\\\\'\")"
   ],
   "metadata": {
    "collapsed": false,
    "ExecuteTime": {
     "end_time": "2024-02-20T03:51:26.755177Z",
     "start_time": "2024-02-20T03:51:26.741790Z"
    }
   },
   "id": "ac606eb914a3ad",
   "execution_count": 7
  },
  {
   "cell_type": "code",
   "outputs": [
    {
     "data": {
      "text/plain": "'\\nComment\\n'"
     },
     "execution_count": 8,
     "metadata": {},
     "output_type": "execute_result"
    }
   ],
   "source": [
    "# Comment\n",
    "\n",
    "'''\n",
    "Comment\n",
    "'''"
   ],
   "metadata": {
    "collapsed": false,
    "ExecuteTime": {
     "end_time": "2024-02-20T03:51:26.755796Z",
     "start_time": "2024-02-20T03:51:26.746085Z"
    }
   },
   "id": "b30e19ee74b6587a",
   "execution_count": 8
  },
  {
   "cell_type": "code",
   "outputs": [
    {
     "name": "stdout",
     "output_type": "stream",
     "text": [
      "Sum of 4 and 5 are 9.0\n"
     ]
    }
   ],
   "source": [
    "num1 = input(\"Enter a number: \")\n",
    "num2 = input(\"Enter another number: \")\n",
    "\n",
    "sum = float(num1) + float(num2)\n",
    "\n",
    "print(\"Sum of {0} and {1} are {2}\".format(num1,num2,sum))"
   ],
   "metadata": {
    "collapsed": false,
    "ExecuteTime": {
     "end_time": "2024-02-20T03:59:45.498831Z",
     "start_time": "2024-02-20T03:59:43.397624Z"
    }
   },
   "id": "20f031530c4e6e5b",
   "execution_count": 9
  },
  {
   "cell_type": "code",
   "outputs": [
    {
     "name": "stdout",
     "output_type": "stream",
     "text": [
      "Summation of 6 and 3 are 9.0\n",
      "Subtraction of 6 and 3 are 3.0\n",
      "Multiplication of 6 and 3 are 18.0\n",
      "Division of 6 and 3 are 2.0\n"
     ]
    }
   ],
   "source": [
    "num1 = input(\"Enter a number: \")\n",
    "num2 = input(\"Enter another number: \")\n",
    "\n",
    "sum = float(num1) + float(num2)\n",
    "sub = float(num1) - float(num2)\n",
    "mul = float(num1) * float(num2)\n",
    "div = float(num1) / float(num2)\n",
    "\n",
    "print(\"Summation of {0} and {1} are {2}\".format(num1,num2,sum))\n",
    "print(\"Subtraction of {0} and {1} are {2}\".format(num1,num2,sub))\n",
    "print(\"Multiplication of {0} and {1} are {2}\".format(num1,num2,mul))\n",
    "print(\"Division of {0} and {1} are {2}\".format(num1,num2,div))\n"
   ],
   "metadata": {
    "collapsed": false,
    "ExecuteTime": {
     "end_time": "2024-02-20T04:01:27.865100Z",
     "start_time": "2024-02-20T04:01:25.592649Z"
    }
   },
   "id": "ce7612e7bb347afc",
   "execution_count": 10
  },
  {
   "cell_type": "code",
   "outputs": [
    {
     "name": "stdout",
     "output_type": "stream",
     "text": [
      "Area of the circle is: 153.93804002589985, Circumference: 43.982297150257104\n"
     ]
    }
   ],
   "source": [
    "import math\n",
    "\n",
    "# Area and Circumference of circle function\n",
    "def calculate_circle(radius):\n",
    "    area = math.pi * radius ** 2\n",
    "    circumference = 2 * math.pi * radius\n",
    "    return area, circumference\n",
    "\n",
    "radius = float(input(\"Enter the radius of the circle: \"))\n",
    "\n",
    "area, circumference = calculate_circle(radius)\n",
    "\n",
    "print(\"Area of the circle is: {0}, Circumference: {1}\".format(area, circumference))"
   ],
   "metadata": {
    "collapsed": false,
    "ExecuteTime": {
     "end_time": "2024-02-20T04:18:26.269217Z",
     "start_time": "2024-02-20T04:18:24.881460Z"
    }
   },
   "id": "d135424af4bc970c",
   "execution_count": 13
  },
  {
   "cell_type": "code",
   "outputs": [
    {
     "name": "stdout",
     "output_type": "stream",
     "text": [
      "Length of the string is: 12\n"
     ]
    }
   ],
   "source": [
    "# Length of a given string\n",
    "\n",
    "def length_of_string(string):\n",
    "    return len(string)\n",
    "\n",
    "string = input(\"Enter a string: \")\n",
    "\n",
    "print(\"Length of the string is: {0}\".format(length_of_string(string)))"
   ],
   "metadata": {
    "collapsed": false,
    "ExecuteTime": {
     "end_time": "2024-02-20T04:20:23.211254Z",
     "start_time": "2024-02-20T04:20:19.990899Z"
    }
   },
   "id": "40c89886691eabe2",
   "execution_count": 14
  },
  {
   "cell_type": "code",
   "outputs": [
    {
     "name": "stdout",
     "output_type": "stream",
     "text": [
      "HELLOWORLD\n"
     ]
    }
   ],
   "source": [
    "# Convert string to Uppercase\n",
    "\n",
    "def convert_to_uppercase(string):\n",
    "    return string.upper()\n",
    "\n",
    "string = input(\"Enter a string: \")\n",
    "\n",
    "print(convert_to_uppercase(string))"
   ],
   "metadata": {
    "collapsed": false,
    "ExecuteTime": {
     "end_time": "2024-02-20T04:20:55.152442Z",
     "start_time": "2024-02-20T04:20:52.741844Z"
    }
   },
   "id": "bd04abc97222be5d",
   "execution_count": 15
  },
  {
   "cell_type": "code",
   "outputs": [
    {
     "name": "stdout",
     "output_type": "stream",
     "text": [
      "!dlroW olleH\n"
     ]
    }
   ],
   "source": [
    "# Reverse a given string\n",
    "\n",
    "def reverse_string(string):\n",
    "    return string[::-1]\n",
    "\n",
    "string = input(\"Enter a string: \")\n",
    "\n",
    "print(reverse_string(string))"
   ],
   "metadata": {
    "collapsed": false,
    "ExecuteTime": {
     "end_time": "2024-02-20T04:34:32.016779Z",
     "start_time": "2024-02-20T04:34:28.426576Z"
    }
   },
   "id": "fc8321634c4dfe8b",
   "execution_count": 16
  },
  {
   "cell_type": "code",
   "outputs": [
    {
     "name": "stdout",
     "output_type": "stream",
     "text": [
      "True\n"
     ]
    }
   ],
   "source": [
    "# Check if the given string a palindrome\n",
    "\n",
    "def is_palindrome(string):\n",
    "    return string == string[::-1]\n",
    "\n",
    "string = input(\"Enter a string: \")\n",
    "\n",
    "print(is_palindrome(string))"
   ],
   "metadata": {
    "collapsed": false,
    "ExecuteTime": {
     "end_time": "2024-02-20T04:35:13.949338Z",
     "start_time": "2024-02-20T04:35:10.635730Z"
    }
   },
   "id": "d953459d46b51486",
   "execution_count": 17
  },
  {
   "cell_type": "code",
   "outputs": [
    {
     "name": "stdout",
     "output_type": "stream",
     "text": [
      "29\n"
     ]
    }
   ],
   "source": [
    "# Random number between 1 and 100\n",
    "\n",
    "import random\n",
    "\n",
    "print(random.randint(1,100))"
   ],
   "metadata": {
    "collapsed": false,
    "ExecuteTime": {
     "end_time": "2024-02-20T04:35:39.938266Z",
     "start_time": "2024-02-20T04:35:39.933191Z"
    }
   },
   "id": "98569fa698496b0b",
   "execution_count": 18
  },
  {
   "cell_type": "code",
   "outputs": [
    {
     "name": "stdout",
     "output_type": "stream",
     "text": [
      "False\n"
     ]
    }
   ],
   "source": [
    "# Given number is even or odd\n",
    "\n",
    "def is_even_or_odd(number):\n",
    "    # True if the number is even, False if the number is odd\n",
    "    return number % 2 == 0\n",
    "\n",
    "number = int(input(\"Enter a number: \"))\n",
    "\n",
    "print(is_even_or_odd(number))"
   ],
   "metadata": {
    "collapsed": false,
    "ExecuteTime": {
     "end_time": "2024-02-20T04:35:54.444421Z",
     "start_time": "2024-02-20T04:35:53.457873Z"
    }
   },
   "id": "502d99336ae20dd9",
   "execution_count": 19
  },
  {
   "cell_type": "code",
   "outputs": [
    {
     "name": "stdout",
     "output_type": "stream",
     "text": [
      "3\n"
     ]
    }
   ],
   "source": [
    "# Largest number in a list\n",
    "\n",
    "def largest_number_in_list(numbers):\n",
    "    return max(numbers)\n",
    "\n",
    "uilist = input(\"Enter a list of numbers separated by a comma: \").split(',')\n",
    "numbers = [int(x) for x in uilist]\n",
    "\n",
    "print(largest_number_in_list(numbers))"
   ],
   "metadata": {
    "collapsed": false,
    "ExecuteTime": {
     "end_time": "2024-02-20T05:15:07.330977Z",
     "start_time": "2024-02-20T05:15:05.168415Z"
    }
   },
   "id": "23d92b8b8aa96e2a",
   "execution_count": 22
  },
  {
   "cell_type": "markdown",
   "source": [],
   "metadata": {
    "collapsed": false
   },
   "id": "4da0ee1a88304107"
  }
 ],
 "metadata": {
  "kernelspec": {
   "display_name": "Python 3",
   "language": "python",
   "name": "python3"
  },
  "language_info": {
   "codemirror_mode": {
    "name": "ipython",
    "version": 2
   },
   "file_extension": ".py",
   "mimetype": "text/x-python",
   "name": "python",
   "nbconvert_exporter": "python",
   "pygments_lexer": "ipython2",
   "version": "2.7.6"
  }
 },
 "nbformat": 4,
 "nbformat_minor": 5
}
