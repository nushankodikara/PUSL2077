{
 "cells": [
  {
   "cell_type": "markdown",
   "source": [
    "# Dictionaries"
   ],
   "metadata": {
    "collapsed": false
   },
   "id": "821d7f451a9e6bc3"
  },
  {
   "cell_type": "markdown",
   "source": [
    "## Looping Through all the items"
   ],
   "metadata": {
    "collapsed": false
   },
   "id": "8d3cf0bf271b054a"
  },
  {
   "cell_type": "code",
   "execution_count": null,
   "id": "initial_id",
   "metadata": {
    "collapsed": true
   },
   "outputs": [],
   "source": [
    "fav_numbers = {\n",
    "    'eric': 17,\n",
    "    'ever': 4,\n",
    "    'willie': 10,\n",
    "    'arthur': 7,\n",
    "    'john': 13,\n",
    "    }"
   ]
  },
  {
   "cell_type": "code",
   "outputs": [],
   "source": [
    "for name, number in fav_numbers.items():\n",
    "    print(name, \" \", str(number))"
   ],
   "metadata": {
    "collapsed": false
   },
   "id": "c1a3205e3b9889c9",
   "execution_count": null
  },
  {
   "cell_type": "markdown",
   "source": [
    "# Tuples\n",
    "\n",
    "- Tuples are immutable\n",
    "- Cannot alter individual items"
   ],
   "metadata": {
    "collapsed": false
   },
   "id": "ada3ae63030812fa"
  },
  {
   "cell_type": "code",
   "outputs": [],
   "source": [
    "tup1 = () # Empty Tuple\n",
    "tup2 = (10,20,30) # Tuple with 3 integers\n",
    "tup3 = (\"one\", \"two\", \"three\") # Tuple with 3 strings\n",
    "tup4 = (10, \"twenty\", (10,20)) # Nested Tuple\n",
    "tup5 = (10, \"twenty\", 30.5) # Tuple with different data types\n",
    "tup6 = (\"one\", \"two\", \"three\", \"four\", \"five\", \"six\", \"seven\", \"eight\") # Tuple with 6 elements"
   ],
   "metadata": {
    "collapsed": false
   },
   "id": "557e8f5909c01f5c",
   "execution_count": null
  },
  {
   "cell_type": "code",
   "outputs": [],
   "source": [
    "print(tup6[2:5])\n",
    "print(tup6[0:2])\n",
    "print(tup6[5:])\n",
    "print(tup6[:5])\n",
    "print(tup6[-2:])\n",
    "for x in tup6:\n",
    "    print(x)\n",
    "for x in enumerate(tup6):\n",
    "    print(x)"
   ],
   "metadata": {
    "collapsed": false
   },
   "id": "46785b1877ef4c71",
   "execution_count": null
  },
  {
   "cell_type": "markdown",
   "source": [
    "# Activity"
   ],
   "metadata": {
    "collapsed": false
   },
   "id": "f06321367a9c26c5"
  },
  {
   "cell_type": "code",
   "outputs": [
    {
     "name": "stdout",
     "output_type": "stream",
     "text": [
      "Version \t:  3.11.0 (v3.11.0:deaf509e8f, Oct 24 2022, 14:43:23) [Clang 13.0.0 (clang-1300.0.29.30)]\n"
     ]
    }
   ],
   "source": [
    "# Get python version\n",
    "import sys\n",
    "print(\"Version \\t: \", sys.version)"
   ],
   "metadata": {
    "collapsed": false,
    "ExecuteTime": {
     "end_time": "2024-02-13T04:42:36.675010Z",
     "start_time": "2024-02-13T04:42:36.671578Z"
    }
   },
   "id": "5294de52985291",
   "execution_count": 4
  },
  {
   "cell_type": "code",
   "outputs": [
    {
     "name": "stdout",
     "output_type": "stream",
     "text": [
      "Current Date and Time \t:  2024-02-13 10:12:38.910219\n"
     ]
    }
   ],
   "source": [
    "# Get current date and time\n",
    "from datetime import datetime\n",
    "print(\"Current Date and Time \\t: \",datetime.now())"
   ],
   "metadata": {
    "collapsed": false,
    "ExecuteTime": {
     "end_time": "2024-02-13T04:42:39.018755Z",
     "start_time": "2024-02-13T04:42:38.910622Z"
    }
   },
   "id": "e53b9f0e252c2796",
   "execution_count": 5
  },
  {
   "cell_type": "code",
   "outputs": [
    {
     "name": "stdout",
     "output_type": "stream",
     "text": [
      "Kodikara   Nushan\n"
     ]
    }
   ],
   "source": [
    "f_name = input(\"Enter your first name\\t: \")\n",
    "l_name = input(\"Enter your last name\\t: \")\n",
    "print(l_name,\" \",f_name)"
   ],
   "metadata": {
    "collapsed": false,
    "ExecuteTime": {
     "end_time": "2024-02-13T04:42:24.804471Z",
     "start_time": "2024-02-13T04:42:16.051382Z"
    }
   },
   "id": "3244734efc872585",
   "execution_count": 3
  },
  {
   "cell_type": "markdown",
   "source": [
    "Python program that accepts a sequence of comma-separated numbers from the user and generates a list and a tuple of those numbers"
   ],
   "metadata": {
    "collapsed": false
   },
   "id": "127491aea09f2bff"
  },
  {
   "cell_type": "code",
   "outputs": [
    {
     "name": "stdout",
     "output_type": "stream",
     "text": [
      "List :  ('4', '5', '2', '6', '2', '3', '4', '2', '6', '66', '5')\n"
     ]
    }
   ],
   "source": [
    "values = input(\"Enter some comma separated numbers : \")\n",
    "lst = values.split(\",\")\n",
    "tpl = tuple(lst)\n",
    "print(\"List \\t: \", tpl)"
   ],
   "metadata": {
    "collapsed": false,
    "ExecuteTime": {
     "end_time": "2024-02-13T04:37:39.150981Z",
     "start_time": "2024-02-13T04:37:31.839287Z"
    }
   },
   "id": "6f5f6f8bc7d212e9",
   "execution_count": 2
  },
  {
   "cell_type": "code",
   "outputs": [
    {
     "name": "stdout",
     "output_type": "stream",
     "text": [
      "First \t:  Red\n",
      "Last \t:  Black\n"
     ]
    }
   ],
   "source": [
    "color_list = [\"Red\",\"Green\",\"White\" ,\"Black\"]\n",
    "print(\"First \\t: \",color_list[0])\n",
    "print(\"Last \\t: \",color_list[-1])"
   ],
   "metadata": {
    "collapsed": false,
    "ExecuteTime": {
     "end_time": "2024-02-13T04:42:06.730551Z",
     "start_time": "2024-02-13T04:42:06.726936Z"
    }
   },
   "id": "94afa9eca1f4b4dd",
   "execution_count": 2
  },
  {
   "cell_type": "code",
   "outputs": [],
   "source": [],
   "metadata": {
    "collapsed": false
   },
   "id": "c3246646df2af031"
  }
 ],
 "metadata": {
  "kernelspec": {
   "display_name": "Python 3",
   "language": "python",
   "name": "python3"
  },
  "language_info": {
   "codemirror_mode": {
    "name": "ipython",
    "version": 2
   },
   "file_extension": ".py",
   "mimetype": "text/x-python",
   "name": "python",
   "nbconvert_exporter": "python",
   "pygments_lexer": "ipython2",
   "version": "2.7.6"
  }
 },
 "nbformat": 4,
 "nbformat_minor": 5
}
