{
 "cells": [
  {
   "cell_type": "code",
   "execution_count": 1,
   "id": "initial_id",
   "metadata": {
    "ExecuteTime": {
     "end_time": "2024-02-27T04:01:43.064213Z",
     "start_time": "2024-02-27T04:01:43.060735Z"
    }
   },
   "outputs": [],
   "source": [
    "import pandas as pd # for data manipulation\n",
    "import seaborn as sns # for data visualization\n",
    "import matplotlib.pyplot as plt # for data visualization\n",
    "import numpy as np # for numerical operations\n",
    "import scipy.stats as scs # for statistical analysis"
   ]
  },
  {
   "cell_type": "code",
   "execution_count": 2,
   "id": "c56cb9c1bfe2e8b5",
   "metadata": {
    "ExecuteTime": {
     "end_time": "2024-02-27T04:01:44.602873Z",
     "start_time": "2024-02-27T04:01:44.592934Z"
    }
   },
   "outputs": [],
   "source": [
    "empdf = pd.read_csv('datasets/employees.csv')"
   ]
  },
  {
   "cell_type": "code",
   "execution_count": 3,
   "id": "cd9535a45bf15184",
   "metadata": {
    "ExecuteTime": {
     "end_time": "2024-02-27T04:01:45.430108Z",
     "start_time": "2024-02-27T04:01:45.389557Z"
    }
   },
   "outputs": [
    {
     "data": {
      "text/html": [
       "<div>\n",
       "<style scoped>\n",
       "    .dataframe tbody tr th:only-of-type {\n",
       "        vertical-align: middle;\n",
       "    }\n",
       "\n",
       "    .dataframe tbody tr th {\n",
       "        vertical-align: top;\n",
       "    }\n",
       "\n",
       "    .dataframe thead th {\n",
       "        text-align: right;\n",
       "    }\n",
       "</style>\n",
       "<table border=\"1\" class=\"dataframe\">\n",
       "  <thead>\n",
       "    <tr style=\"text-align: right;\">\n",
       "      <th></th>\n",
       "      <th>First Name</th>\n",
       "      <th>Gender</th>\n",
       "      <th>Start Date</th>\n",
       "      <th>Last Login Time</th>\n",
       "      <th>Salary</th>\n",
       "      <th>Bonus %</th>\n",
       "      <th>Senior Management</th>\n",
       "      <th>Team</th>\n",
       "    </tr>\n",
       "  </thead>\n",
       "  <tbody>\n",
       "    <tr>\n",
       "      <th>0</th>\n",
       "      <td>Douglas</td>\n",
       "      <td>Male</td>\n",
       "      <td>8/6/1993</td>\n",
       "      <td>12:42 PM</td>\n",
       "      <td>97308</td>\n",
       "      <td>6.945</td>\n",
       "      <td>True</td>\n",
       "      <td>Marketing</td>\n",
       "    </tr>\n",
       "    <tr>\n",
       "      <th>1</th>\n",
       "      <td>Thomas</td>\n",
       "      <td>Male</td>\n",
       "      <td>3/31/1996</td>\n",
       "      <td>6:53 AM</td>\n",
       "      <td>61933</td>\n",
       "      <td>4.170</td>\n",
       "      <td>True</td>\n",
       "      <td>NaN</td>\n",
       "    </tr>\n",
       "    <tr>\n",
       "      <th>2</th>\n",
       "      <td>Maria</td>\n",
       "      <td>Female</td>\n",
       "      <td>4/23/1993</td>\n",
       "      <td>11:17 AM</td>\n",
       "      <td>130590</td>\n",
       "      <td>11.858</td>\n",
       "      <td>False</td>\n",
       "      <td>Finance</td>\n",
       "    </tr>\n",
       "    <tr>\n",
       "      <th>3</th>\n",
       "      <td>Jerry</td>\n",
       "      <td>Male</td>\n",
       "      <td>3/4/2005</td>\n",
       "      <td>1:00 PM</td>\n",
       "      <td>138705</td>\n",
       "      <td>9.340</td>\n",
       "      <td>True</td>\n",
       "      <td>Finance</td>\n",
       "    </tr>\n",
       "    <tr>\n",
       "      <th>4</th>\n",
       "      <td>Larry</td>\n",
       "      <td>Male</td>\n",
       "      <td>1/24/1998</td>\n",
       "      <td>4:47 PM</td>\n",
       "      <td>101004</td>\n",
       "      <td>1.389</td>\n",
       "      <td>True</td>\n",
       "      <td>Client Services</td>\n",
       "    </tr>\n",
       "  </tbody>\n",
       "</table>\n",
       "</div>"
      ],
      "text/plain": [
       "  First Name  Gender Start Date Last Login Time  Salary  Bonus %  \\\n",
       "0    Douglas    Male   8/6/1993        12:42 PM   97308    6.945   \n",
       "1     Thomas    Male  3/31/1996         6:53 AM   61933    4.170   \n",
       "2      Maria  Female  4/23/1993        11:17 AM  130590   11.858   \n",
       "3      Jerry    Male   3/4/2005         1:00 PM  138705    9.340   \n",
       "4      Larry    Male  1/24/1998         4:47 PM  101004    1.389   \n",
       "\n",
       "  Senior Management             Team  \n",
       "0              True        Marketing  \n",
       "1              True              NaN  \n",
       "2             False          Finance  \n",
       "3              True          Finance  \n",
       "4              True  Client Services  "
      ]
     },
     "execution_count": 3,
     "metadata": {},
     "output_type": "execute_result"
    }
   ],
   "source": [
    "empdf.head()"
   ]
  },
  {
   "cell_type": "markdown",
   "id": "520818c2696311fa",
   "metadata": {},
   "source": [
    "# Analyzing for missing values"
   ]
  },
  {
   "cell_type": "code",
   "execution_count": 4,
   "id": "b05d56b84a10fde6",
   "metadata": {
    "ExecuteTime": {
     "end_time": "2024-02-27T04:01:47.564210Z",
     "start_time": "2024-02-27T04:01:47.549411Z"
    }
   },
   "outputs": [
    {
     "data": {
      "text/plain": [
       "First Name            67\n",
       "Gender               145\n",
       "Start Date             0\n",
       "Last Login Time        0\n",
       "Salary                 0\n",
       "Bonus %                0\n",
       "Senior Management     67\n",
       "Team                  43\n",
       "dtype: int64"
      ]
     },
     "execution_count": 4,
     "metadata": {},
     "output_type": "execute_result"
    }
   ],
   "source": [
    "empdf.isnull().sum()"
   ]
  },
  {
   "cell_type": "markdown",
   "id": "703132f0c67bf42d",
   "metadata": {},
   "source": [
    "# Handling missing Values\n",
    "## Two ways to treat them\n",
    "- dropna()\n",
    "- fillna()"
   ]
  },
  {
   "cell_type": "code",
   "execution_count": null,
   "id": "e061beabdb877c0a",
   "metadata": {},
   "outputs": [],
   "source": []
  }
 ],
 "metadata": {
  "kernelspec": {
   "display_name": "Python 3 (ipykernel)",
   "language": "python",
   "name": "python3"
  },
  "language_info": {
   "codemirror_mode": {
    "name": "ipython",
    "version": 3
   },
   "file_extension": ".py",
   "mimetype": "text/x-python",
   "name": "python",
   "nbconvert_exporter": "python",
   "pygments_lexer": "ipython3",
   "version": "3.11.5"
  }
 },
 "nbformat": 4,
 "nbformat_minor": 5
}
