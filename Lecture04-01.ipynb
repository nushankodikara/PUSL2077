{
 "cells": [
  {
   "cell_type": "markdown",
   "source": [
    "# Data Cleaning\n",
    "- Data Processing\n",
    "    - Removing Duplicates\n",
    "    - Cleaning outliers using stc techniques\n",
    "- Advanced Data Cleaning\n",
    "\n",
    "Generally\n",
    "- Handling missing values\n",
    "- Handling inconsistent data\n",
    "- Addressing data types conversion and spelling errors\n",
    "- Handling irrelevant variable"
   ],
   "metadata": {
    "collapsed": false
   },
   "id": "7e56b1611cd983cd"
  },
  {
   "cell_type": "markdown",
   "source": [
    "# Data Preprocessing\n",
    "\n",
    "Generally\n",
    "- Removing duplicates\n",
    "- Dealing with outliers\n",
    "- Handling inconsistencies in categorical data\n",
    "- feature engineering\n"
   ],
   "metadata": {
    "collapsed": false
   },
   "id": "3c163f5089fecaff"
  },
  {
   "cell_type": "code",
   "execution_count": 1,
   "id": "initial_id",
   "metadata": {
    "collapsed": true,
    "ExecuteTime": {
     "end_time": "2024-02-20T05:58:49.416150Z",
     "start_time": "2024-02-20T05:58:48.006690Z"
    }
   },
   "outputs": [],
   "source": [
    "import pandas as pd\n",
    "import numpy as np\n",
    "import sklearn"
   ]
  },
  {
   "cell_type": "code",
   "outputs": [],
   "source": [
    "df = pd.read_csv('~/Documents/Datasets/employees.csv')"
   ],
   "metadata": {
    "collapsed": false,
    "ExecuteTime": {
     "end_time": "2024-02-20T06:04:57.869022Z",
     "start_time": "2024-02-20T06:04:57.797420Z"
    }
   },
   "id": "27547ec014fcd021",
   "execution_count": 2
  },
  {
   "cell_type": "code",
   "outputs": [
    {
     "data": {
      "text/plain": "  First Name  Gender Start Date Last Login Time  Salary  Bonus %  \\\n0    Douglas    Male   8/6/1993        12:42 PM   97308    6.945   \n1     Thomas    Male  3/31/1996         6:53 AM   61933    4.170   \n2      Maria  Female  4/23/1993        11:17 AM  130590   11.858   \n3      Jerry    Male   3/4/2005         1:00 PM  138705    9.340   \n4      Larry    Male  1/24/1998         4:47 PM  101004    1.389   \n\n  Senior Management             Team  \n0              True        Marketing  \n1              True              NaN  \n2             False          Finance  \n3              True          Finance  \n4              True  Client Services  ",
      "text/html": "<div>\n<style scoped>\n    .dataframe tbody tr th:only-of-type {\n        vertical-align: middle;\n    }\n\n    .dataframe tbody tr th {\n        vertical-align: top;\n    }\n\n    .dataframe thead th {\n        text-align: right;\n    }\n</style>\n<table border=\"1\" class=\"dataframe\">\n  <thead>\n    <tr style=\"text-align: right;\">\n      <th></th>\n      <th>First Name</th>\n      <th>Gender</th>\n      <th>Start Date</th>\n      <th>Last Login Time</th>\n      <th>Salary</th>\n      <th>Bonus %</th>\n      <th>Senior Management</th>\n      <th>Team</th>\n    </tr>\n  </thead>\n  <tbody>\n    <tr>\n      <th>0</th>\n      <td>Douglas</td>\n      <td>Male</td>\n      <td>8/6/1993</td>\n      <td>12:42 PM</td>\n      <td>97308</td>\n      <td>6.945</td>\n      <td>True</td>\n      <td>Marketing</td>\n    </tr>\n    <tr>\n      <th>1</th>\n      <td>Thomas</td>\n      <td>Male</td>\n      <td>3/31/1996</td>\n      <td>6:53 AM</td>\n      <td>61933</td>\n      <td>4.170</td>\n      <td>True</td>\n      <td>NaN</td>\n    </tr>\n    <tr>\n      <th>2</th>\n      <td>Maria</td>\n      <td>Female</td>\n      <td>4/23/1993</td>\n      <td>11:17 AM</td>\n      <td>130590</td>\n      <td>11.858</td>\n      <td>False</td>\n      <td>Finance</td>\n    </tr>\n    <tr>\n      <th>3</th>\n      <td>Jerry</td>\n      <td>Male</td>\n      <td>3/4/2005</td>\n      <td>1:00 PM</td>\n      <td>138705</td>\n      <td>9.340</td>\n      <td>True</td>\n      <td>Finance</td>\n    </tr>\n    <tr>\n      <th>4</th>\n      <td>Larry</td>\n      <td>Male</td>\n      <td>1/24/1998</td>\n      <td>4:47 PM</td>\n      <td>101004</td>\n      <td>1.389</td>\n      <td>True</td>\n      <td>Client Services</td>\n    </tr>\n  </tbody>\n</table>\n</div>"
     },
     "execution_count": 3,
     "metadata": {},
     "output_type": "execute_result"
    }
   ],
   "source": [
    "df.head()"
   ],
   "metadata": {
    "collapsed": false,
    "ExecuteTime": {
     "end_time": "2024-02-20T06:04:59.309647Z",
     "start_time": "2024-02-20T06:04:59.293305Z"
    }
   },
   "id": "d8ff0236f5137db7",
   "execution_count": 3
  },
  {
   "cell_type": "code",
   "outputs": [
    {
     "data": {
      "text/plain": "    First Name Gender  Start Date Last Login Time  Salary  Bonus %  \\\n995      Henry    NaN  11/23/2014         6:09 AM  132483   16.655   \n996    Phillip   Male   1/31/1984         6:30 AM   42392   19.675   \n997    Russell   Male   5/20/2013        12:39 PM   96914    1.421   \n998      Larry   Male   4/20/2013         4:45 PM   60500   11.985   \n999     Albert   Male   5/15/2012         6:24 PM  129949   10.169   \n\n    Senior Management                  Team  \n995             False          Distribution  \n996             False               Finance  \n997             False               Product  \n998             False  Business Development  \n999              True                 Sales  ",
      "text/html": "<div>\n<style scoped>\n    .dataframe tbody tr th:only-of-type {\n        vertical-align: middle;\n    }\n\n    .dataframe tbody tr th {\n        vertical-align: top;\n    }\n\n    .dataframe thead th {\n        text-align: right;\n    }\n</style>\n<table border=\"1\" class=\"dataframe\">\n  <thead>\n    <tr style=\"text-align: right;\">\n      <th></th>\n      <th>First Name</th>\n      <th>Gender</th>\n      <th>Start Date</th>\n      <th>Last Login Time</th>\n      <th>Salary</th>\n      <th>Bonus %</th>\n      <th>Senior Management</th>\n      <th>Team</th>\n    </tr>\n  </thead>\n  <tbody>\n    <tr>\n      <th>995</th>\n      <td>Henry</td>\n      <td>NaN</td>\n      <td>11/23/2014</td>\n      <td>6:09 AM</td>\n      <td>132483</td>\n      <td>16.655</td>\n      <td>False</td>\n      <td>Distribution</td>\n    </tr>\n    <tr>\n      <th>996</th>\n      <td>Phillip</td>\n      <td>Male</td>\n      <td>1/31/1984</td>\n      <td>6:30 AM</td>\n      <td>42392</td>\n      <td>19.675</td>\n      <td>False</td>\n      <td>Finance</td>\n    </tr>\n    <tr>\n      <th>997</th>\n      <td>Russell</td>\n      <td>Male</td>\n      <td>5/20/2013</td>\n      <td>12:39 PM</td>\n      <td>96914</td>\n      <td>1.421</td>\n      <td>False</td>\n      <td>Product</td>\n    </tr>\n    <tr>\n      <th>998</th>\n      <td>Larry</td>\n      <td>Male</td>\n      <td>4/20/2013</td>\n      <td>4:45 PM</td>\n      <td>60500</td>\n      <td>11.985</td>\n      <td>False</td>\n      <td>Business Development</td>\n    </tr>\n    <tr>\n      <th>999</th>\n      <td>Albert</td>\n      <td>Male</td>\n      <td>5/15/2012</td>\n      <td>6:24 PM</td>\n      <td>129949</td>\n      <td>10.169</td>\n      <td>True</td>\n      <td>Sales</td>\n    </tr>\n  </tbody>\n</table>\n</div>"
     },
     "execution_count": 4,
     "metadata": {},
     "output_type": "execute_result"
    }
   ],
   "source": [
    "df.tail()"
   ],
   "metadata": {
    "collapsed": false,
    "ExecuteTime": {
     "end_time": "2024-02-20T06:05:00.562225Z",
     "start_time": "2024-02-20T06:05:00.513442Z"
    }
   },
   "id": "d382dc8df0210093",
   "execution_count": 4
  },
  {
   "cell_type": "code",
   "outputs": [
    {
     "data": {
      "text/plain": "     First Name  Gender  Start Date  Last Login Time  Salary  Bonus %  \\\n0         False   False       False            False   False    False   \n1         False   False       False            False   False    False   \n2         False   False       False            False   False    False   \n3         False   False       False            False   False    False   \n4         False   False       False            False   False    False   \n..          ...     ...         ...              ...     ...      ...   \n995       False    True       False            False   False    False   \n996       False   False       False            False   False    False   \n997       False   False       False            False   False    False   \n998       False   False       False            False   False    False   \n999       False   False       False            False   False    False   \n\n     Senior Management   Team  \n0                False  False  \n1                False   True  \n2                False  False  \n3                False  False  \n4                False  False  \n..                 ...    ...  \n995              False  False  \n996              False  False  \n997              False  False  \n998              False  False  \n999              False  False  \n\n[1000 rows x 8 columns]",
      "text/html": "<div>\n<style scoped>\n    .dataframe tbody tr th:only-of-type {\n        vertical-align: middle;\n    }\n\n    .dataframe tbody tr th {\n        vertical-align: top;\n    }\n\n    .dataframe thead th {\n        text-align: right;\n    }\n</style>\n<table border=\"1\" class=\"dataframe\">\n  <thead>\n    <tr style=\"text-align: right;\">\n      <th></th>\n      <th>First Name</th>\n      <th>Gender</th>\n      <th>Start Date</th>\n      <th>Last Login Time</th>\n      <th>Salary</th>\n      <th>Bonus %</th>\n      <th>Senior Management</th>\n      <th>Team</th>\n    </tr>\n  </thead>\n  <tbody>\n    <tr>\n      <th>0</th>\n      <td>False</td>\n      <td>False</td>\n      <td>False</td>\n      <td>False</td>\n      <td>False</td>\n      <td>False</td>\n      <td>False</td>\n      <td>False</td>\n    </tr>\n    <tr>\n      <th>1</th>\n      <td>False</td>\n      <td>False</td>\n      <td>False</td>\n      <td>False</td>\n      <td>False</td>\n      <td>False</td>\n      <td>False</td>\n      <td>True</td>\n    </tr>\n    <tr>\n      <th>2</th>\n      <td>False</td>\n      <td>False</td>\n      <td>False</td>\n      <td>False</td>\n      <td>False</td>\n      <td>False</td>\n      <td>False</td>\n      <td>False</td>\n    </tr>\n    <tr>\n      <th>3</th>\n      <td>False</td>\n      <td>False</td>\n      <td>False</td>\n      <td>False</td>\n      <td>False</td>\n      <td>False</td>\n      <td>False</td>\n      <td>False</td>\n    </tr>\n    <tr>\n      <th>4</th>\n      <td>False</td>\n      <td>False</td>\n      <td>False</td>\n      <td>False</td>\n      <td>False</td>\n      <td>False</td>\n      <td>False</td>\n      <td>False</td>\n    </tr>\n    <tr>\n      <th>...</th>\n      <td>...</td>\n      <td>...</td>\n      <td>...</td>\n      <td>...</td>\n      <td>...</td>\n      <td>...</td>\n      <td>...</td>\n      <td>...</td>\n    </tr>\n    <tr>\n      <th>995</th>\n      <td>False</td>\n      <td>True</td>\n      <td>False</td>\n      <td>False</td>\n      <td>False</td>\n      <td>False</td>\n      <td>False</td>\n      <td>False</td>\n    </tr>\n    <tr>\n      <th>996</th>\n      <td>False</td>\n      <td>False</td>\n      <td>False</td>\n      <td>False</td>\n      <td>False</td>\n      <td>False</td>\n      <td>False</td>\n      <td>False</td>\n    </tr>\n    <tr>\n      <th>997</th>\n      <td>False</td>\n      <td>False</td>\n      <td>False</td>\n      <td>False</td>\n      <td>False</td>\n      <td>False</td>\n      <td>False</td>\n      <td>False</td>\n    </tr>\n    <tr>\n      <th>998</th>\n      <td>False</td>\n      <td>False</td>\n      <td>False</td>\n      <td>False</td>\n      <td>False</td>\n      <td>False</td>\n      <td>False</td>\n      <td>False</td>\n    </tr>\n    <tr>\n      <th>999</th>\n      <td>False</td>\n      <td>False</td>\n      <td>False</td>\n      <td>False</td>\n      <td>False</td>\n      <td>False</td>\n      <td>False</td>\n      <td>False</td>\n    </tr>\n  </tbody>\n</table>\n<p>1000 rows × 8 columns</p>\n</div>"
     },
     "execution_count": 5,
     "metadata": {},
     "output_type": "execute_result"
    }
   ],
   "source": [
    "df.isnull()"
   ],
   "metadata": {
    "collapsed": false,
    "ExecuteTime": {
     "end_time": "2024-02-20T06:05:01.315332Z",
     "start_time": "2024-02-20T06:05:01.298670Z"
    }
   },
   "id": "7143b5fc722d54c5",
   "execution_count": 5
  },
  {
   "cell_type": "markdown",
   "source": [
    "## Observing dataset for any missing values"
   ],
   "metadata": {
    "collapsed": false
   },
   "id": "d80b42395f12c93c"
  },
  {
   "cell_type": "code",
   "outputs": [
    {
     "data": {
      "text/plain": "First Name            67\nGender               145\nStart Date             0\nLast Login Time        0\nSalary                 0\nBonus %                0\nSenior Management     67\nTeam                  43\ndtype: int64"
     },
     "execution_count": 8,
     "metadata": {},
     "output_type": "execute_result"
    }
   ],
   "source": [
    "df.isnull().sum()"
   ],
   "metadata": {
    "collapsed": false,
    "ExecuteTime": {
     "end_time": "2024-02-20T06:09:02.727184Z",
     "start_time": "2024-02-20T06:09:02.717710Z"
    }
   },
   "id": "b399d1cb1a8364ab",
   "execution_count": 8
  },
  {
   "cell_type": "markdown",
   "source": [
    "## Removing missing values"
   ],
   "metadata": {
    "collapsed": false
   },
   "id": "3aa831edd021b5d3"
  },
  {
   "cell_type": "code",
   "outputs": [],
   "source": [
    "df.dropna(axis=0, inplace=True)"
   ],
   "metadata": {
    "collapsed": false,
    "ExecuteTime": {
     "end_time": "2024-02-20T06:09:38.019610Z",
     "start_time": "2024-02-20T06:09:38.015587Z"
    }
   },
   "id": "677c5e77f2571158",
   "execution_count": 9
  },
  {
   "cell_type": "code",
   "outputs": [
    {
     "data": {
      "text/plain": "First Name           0\nGender               0\nStart Date           0\nLast Login Time      0\nSalary               0\nBonus %              0\nSenior Management    0\nTeam                 0\ndtype: int64"
     },
     "execution_count": 10,
     "metadata": {},
     "output_type": "execute_result"
    }
   ],
   "source": [
    "df.isnull().sum()"
   ],
   "metadata": {
    "collapsed": false,
    "ExecuteTime": {
     "end_time": "2024-02-20T06:09:50.532397Z",
     "start_time": "2024-02-20T06:09:50.525747Z"
    }
   },
   "id": "f23e8ad77195c669",
   "execution_count": 10
  },
  {
   "cell_type": "code",
   "outputs": [],
   "source": [],
   "metadata": {
    "collapsed": false
   },
   "id": "aa2aab34c1f298b7"
  }
 ],
 "metadata": {
  "kernelspec": {
   "display_name": "Python 3",
   "language": "python",
   "name": "python3"
  },
  "language_info": {
   "codemirror_mode": {
    "name": "ipython",
    "version": 2
   },
   "file_extension": ".py",
   "mimetype": "text/x-python",
   "name": "python",
   "nbconvert_exporter": "python",
   "pygments_lexer": "ipython2",
   "version": "2.7.6"
  }
 },
 "nbformat": 4,
 "nbformat_minor": 5
}
