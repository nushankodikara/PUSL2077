{
 "cells": [
  {
   "cell_type": "markdown",
   "source": [
    "## Revising Programming\n",
    "\n",
    "Exercise from the previous day\n",
    "- Get name and birth year and print out name and age."
   ],
   "metadata": {
    "collapsed": false
   },
   "id": "13cf9ef1f2bcbca6"
  },
  {
   "cell_type": "code",
   "execution_count": 2,
   "id": "initial_id",
   "metadata": {
    "collapsed": true,
    "ExecuteTime": {
     "end_time": "2024-02-06T04:05:31.681020Z",
     "start_time": "2024-02-06T04:05:28.189388Z"
    }
   },
   "outputs": [
    {
     "name": "stdout",
     "output_type": "stream",
     "text": [
      "Hello Nushan, You are 23 years old.\n"
     ]
    }
   ],
   "source": [
    "name = input(\"Enter Your Name: \")\n",
    "birth = int(input(\"Enter Your Birth Year: \"))\n",
    "\n",
    "print (\"Hello {0}, You are {1} years old.\".format(name.capitalize(), 2024-birth))"
   ]
  },
  {
   "cell_type": "markdown",
   "source": [
    "## Exercise\n",
    "- Input a float number and display the square root"
   ],
   "metadata": {
    "collapsed": false
   },
   "id": "165eefb573a01c25"
  },
  {
   "cell_type": "code",
   "outputs": [
    {
     "name": "stdout",
     "output_type": "stream",
     "text": [
      "Square Root of 4.5 is 2.1213203435596424\n"
     ]
    }
   ],
   "source": [
    "import math\n",
    "\n",
    "num = float(input(\"Float Number: \"))\n",
    "print(\"Square Root of {0} is {1}\".format(num, math.sqrt(num)))"
   ],
   "metadata": {
    "collapsed": false,
    "ExecuteTime": {
     "end_time": "2024-02-06T04:17:11.831490Z",
     "start_time": "2024-02-06T04:17:09.313585Z"
    }
   },
   "id": "aaba736498f06f9c",
   "execution_count": 3
  },
  {
   "cell_type": "markdown",
   "source": [],
   "metadata": {
    "collapsed": false
   },
   "id": "9e2982a5198da6af"
  },
  {
   "cell_type": "markdown",
   "source": [
    "## Function Exercise"
   ],
   "metadata": {
    "collapsed": false
   },
   "id": "bf83c8b7dc878201"
  },
  {
   "cell_type": "code",
   "outputs": [
    {
     "name": "stdout",
     "output_type": "stream",
     "text": [
      "7.0\n",
      "7.0\n",
      "7.0\n",
      "7.0\n"
     ]
    }
   ],
   "source": [
    "a = float(input(\"Enter Num 1: \"))\n",
    "b = float(input(\"Enter Num 2: \"))\n",
    "\n",
    "def sum1():\n",
    "    global a,b\n",
    "    print(float(a)+float(b))\n",
    "\n",
    "sum1()\n",
    "\n",
    "def sum2():\n",
    "    a1 = float(input(\"Enter Num 1: \"))\n",
    "    b1 = float(input(\"Enter Num 2: \"))\n",
    "    print(a1+b1)\n",
    "    \n",
    "sum2()\n",
    "\n",
    "def sum3(a1,b1):\n",
    "    print(float(a1)+float(b1))\n",
    "    \n",
    "sum3(a,b)\n",
    "\n",
    "def sum4(a1,b1):\n",
    "    return float(a1)+float(b1)\n",
    "\n",
    "print(sum4(a,b))"
   ],
   "metadata": {
    "collapsed": false,
    "ExecuteTime": {
     "end_time": "2024-02-06T04:46:17.039683Z",
     "start_time": "2024-02-06T04:46:12.838214Z"
    }
   },
   "id": "f4db73fcb9d47834",
   "execution_count": 11
  },
  {
   "cell_type": "markdown",
   "source": [],
   "metadata": {
    "collapsed": false
   },
   "id": "4c87f3df870ebba6"
  },
  {
   "cell_type": "markdown",
   "source": [
    "## Python Lists\n",
    "There are few types of lists\n",
    "- Lists\n",
    "- Tuple\n",
    "- Set\n",
    "- Dictionary"
   ],
   "metadata": {
    "collapsed": false
   },
   "id": "b6b87c7e5bad2ac3"
  },
  {
   "cell_type": "code",
   "outputs": [
    {
     "name": "stdout",
     "output_type": "stream",
     "text": [
      "[1, 2, 3, 4, 5, 2]\n",
      "[1, 2, 2, 3, 4, 5]\n",
      "1\n",
      "2\n",
      "2\n",
      "3\n",
      "4\n",
      "5\n"
     ]
    }
   ],
   "source": [
    "# List\n",
    "# Indexes start from 0\n",
    "lst = [1,2,3,4,5]\n",
    "lst.append(2)\n",
    "print(lst)\n",
    "lst.sort()\n",
    "print(lst)\n",
    "for i in lst:\n",
    "    print(i)\n"
   ],
   "metadata": {
    "collapsed": false,
    "ExecuteTime": {
     "end_time": "2024-02-06T05:56:27.656406Z",
     "start_time": "2024-02-06T05:56:27.653213Z"
    }
   },
   "id": "8081933d82215d9f",
   "execution_count": 18
  },
  {
   "cell_type": "markdown",
   "source": [
    "## Loops"
   ],
   "metadata": {
    "collapsed": false
   },
   "id": "a839a35e389346f1"
  },
  {
   "cell_type": "code",
   "outputs": [
    {
     "name": "stdout",
     "output_type": "stream",
     "text": [
      "1\n",
      "2\n",
      "3\n",
      "4\n",
      "5\n",
      "6\n",
      "7\n",
      "8\n",
      "9\n",
      "10\n",
      "11\n",
      "12\n",
      "13\n",
      "14\n",
      "15\n",
      "16\n",
      "17\n",
      "18\n",
      "19\n",
      "20\n",
      "21\n",
      "22\n",
      "23\n",
      "24\n",
      "25\n",
      "26\n",
      "27\n",
      "28\n",
      "29\n",
      "30\n",
      "31\n",
      "32\n",
      "33\n",
      "34\n",
      "35\n",
      "36\n",
      "37\n",
      "38\n",
      "39\n",
      "40\n",
      "41\n",
      "42\n",
      "43\n",
      "44\n",
      "45\n",
      "46\n",
      "47\n",
      "48\n",
      "49\n",
      "50\n",
      "51\n",
      "52\n",
      "53\n",
      "54\n",
      "55\n",
      "56\n",
      "57\n",
      "58\n",
      "59\n",
      "60\n",
      "61\n",
      "62\n",
      "63\n",
      "64\n",
      "65\n",
      "66\n",
      "67\n",
      "68\n",
      "69\n",
      "70\n",
      "71\n",
      "72\n",
      "73\n",
      "74\n",
      "75\n",
      "76\n",
      "77\n",
      "78\n",
      "79\n",
      "80\n",
      "81\n",
      "82\n",
      "83\n",
      "84\n",
      "85\n",
      "86\n",
      "87\n",
      "88\n",
      "89\n",
      "90\n",
      "91\n",
      "92\n",
      "93\n",
      "94\n",
      "95\n",
      "96\n",
      "97\n",
      "98\n",
      "99\n",
      "100\n"
     ]
    }
   ],
   "source": [
    "awl = 1\n",
    "while (awl <= 100):\n",
    "    print(awl)\n",
    "    awl += 1"
   ],
   "metadata": {
    "collapsed": false,
    "ExecuteTime": {
     "end_time": "2024-02-06T06:04:30.204174Z",
     "start_time": "2024-02-06T06:04:30.198291Z"
    }
   },
   "id": "d9ca19b0494ea480",
   "execution_count": 22
  },
  {
   "cell_type": "markdown",
   "source": [],
   "metadata": {
    "collapsed": false
   },
   "id": "20786bf8144ca50b"
  },
  {
   "cell_type": "code",
   "outputs": [
    {
     "name": "stdout",
     "output_type": "stream",
     "text": [
      "[1, 2, 3, 4, 5]\n",
      "1\n",
      "2\n",
      "3\n",
      "4\n",
      "5\n",
      "P\n",
      "Y\n",
      "T\n",
      "H\n",
      "O\n",
      "N\n",
      "1\n",
      "3\n",
      "5\n",
      "7\n",
      "9\n",
      "1\n",
      "16\n",
      "31\n",
      "46\n",
      "61\n",
      "76\n",
      "91\n",
      "106\n",
      "121\n",
      "136\n",
      "151\n",
      "166\n",
      "181\n",
      "196\n",
      "6\n",
      "96\n",
      "186\n",
      "276\n",
      "366\n",
      "456\n",
      "546\n",
      "636\n",
      "726\n",
      "816\n",
      "906\n",
      "996\n",
      "1086\n",
      "1176\n",
      "11\n",
      "176\n",
      "341\n",
      "506\n",
      "671\n",
      "836\n",
      "1001\n",
      "1166\n",
      "1331\n",
      "1496\n",
      "1661\n",
      "1826\n",
      "1991\n",
      "2156\n",
      "16\n",
      "256\n",
      "496\n",
      "736\n",
      "976\n",
      "1216\n",
      "1456\n",
      "1696\n",
      "1936\n",
      "2176\n",
      "2416\n",
      "2656\n",
      "2896\n",
      "3136\n",
      "21\n",
      "336\n",
      "651\n",
      "966\n",
      "1281\n",
      "1596\n",
      "1911\n",
      "2226\n",
      "2541\n",
      "2856\n",
      "3171\n",
      "3486\n",
      "3801\n",
      "4116\n",
      "26\n",
      "416\n",
      "806\n",
      "1196\n",
      "1586\n",
      "1976\n",
      "2366\n",
      "2756\n",
      "3146\n",
      "3536\n",
      "3926\n",
      "4316\n",
      "4706\n",
      "5096\n",
      "31\n",
      "496\n",
      "961\n",
      "1426\n",
      "1891\n",
      "2356\n",
      "2821\n",
      "3286\n",
      "3751\n",
      "4216\n",
      "4681\n",
      "5146\n",
      "5611\n",
      "6076\n",
      "36\n",
      "576\n",
      "1116\n",
      "1656\n",
      "2196\n",
      "2736\n",
      "3276\n",
      "3816\n",
      "4356\n",
      "4896\n",
      "5436\n",
      "5976\n",
      "6516\n",
      "7056\n",
      "41\n",
      "656\n",
      "1271\n",
      "1886\n",
      "2501\n",
      "3116\n",
      "3731\n",
      "4346\n",
      "4961\n",
      "5576\n",
      "6191\n",
      "6806\n",
      "7421\n",
      "8036\n",
      "46\n",
      "736\n",
      "1426\n",
      "2116\n",
      "2806\n",
      "3496\n",
      "4186\n",
      "4876\n",
      "5566\n",
      "6256\n",
      "6946\n",
      "7636\n",
      "8326\n",
      "9016\n",
      "51\n",
      "816\n",
      "1581\n",
      "2346\n",
      "3111\n",
      "3876\n",
      "4641\n",
      "5406\n",
      "6171\n",
      "6936\n",
      "7701\n",
      "8466\n",
      "9231\n",
      "9996\n",
      "56\n",
      "896\n",
      "1736\n",
      "2576\n",
      "3416\n",
      "4256\n",
      "5096\n",
      "5936\n",
      "6776\n",
      "7616\n",
      "8456\n",
      "9296\n",
      "10136\n",
      "10976\n",
      "61\n",
      "976\n",
      "1891\n",
      "2806\n",
      "3721\n",
      "4636\n",
      "5551\n",
      "6466\n",
      "7381\n",
      "8296\n",
      "9211\n",
      "10126\n",
      "11041\n",
      "11956\n",
      "66\n",
      "1056\n",
      "2046\n",
      "3036\n",
      "4026\n",
      "5016\n",
      "6006\n",
      "6996\n",
      "7986\n",
      "8976\n",
      "9966\n",
      "10956\n",
      "11946\n",
      "12936\n",
      "71\n",
      "1136\n",
      "2201\n",
      "3266\n",
      "4331\n",
      "5396\n",
      "6461\n",
      "7526\n",
      "8591\n",
      "9656\n",
      "10721\n",
      "11786\n",
      "12851\n",
      "13916\n",
      "76\n",
      "1216\n",
      "2356\n",
      "3496\n",
      "4636\n",
      "5776\n",
      "6916\n",
      "8056\n",
      "9196\n",
      "10336\n",
      "11476\n",
      "12616\n",
      "13756\n",
      "14896\n",
      "81\n",
      "1296\n",
      "2511\n",
      "3726\n",
      "4941\n",
      "6156\n",
      "7371\n",
      "8586\n",
      "9801\n",
      "11016\n",
      "12231\n",
      "13446\n",
      "14661\n",
      "15876\n",
      "86\n",
      "1376\n",
      "2666\n",
      "3956\n",
      "5246\n",
      "6536\n",
      "7826\n",
      "9116\n",
      "10406\n",
      "11696\n",
      "12986\n",
      "14276\n",
      "15566\n",
      "16856\n",
      "91\n",
      "1456\n",
      "2821\n",
      "4186\n",
      "5551\n",
      "6916\n",
      "8281\n",
      "9646\n",
      "11011\n",
      "12376\n",
      "13741\n",
      "15106\n",
      "16471\n",
      "17836\n",
      "96\n",
      "1536\n",
      "2976\n",
      "4416\n",
      "5856\n",
      "7296\n",
      "8736\n",
      "10176\n",
      "11616\n",
      "13056\n",
      "14496\n",
      "15936\n",
      "17376\n",
      "18816\n"
     ]
    }
   ],
   "source": [
    "a = [1,2,3,4,5]\n",
    "print(a)\n",
    "for i in a:\n",
    "    print(i)\n",
    "\n",
    "for i in \"PYTHON\":\n",
    "    print(i)\n",
    "\n",
    "for i in range(1,10,2):\n",
    "    print(i)\n",
    "    \n",
    "for i in range(1,100,5):\n",
    "    for j in range(1,200,15):\n",
    "        print(i*j)"
   ],
   "metadata": {
    "collapsed": false,
    "ExecuteTime": {
     "end_time": "2024-02-06T06:17:35.841036Z",
     "start_time": "2024-02-06T06:17:35.836702Z"
    }
   },
   "id": "2ac54ce6d4b2f11b",
   "execution_count": 27
  },
  {
   "cell_type": "markdown",
   "source": [
    "## Dictionaries"
   ],
   "metadata": {
    "collapsed": false
   },
   "id": "c48e31f0e4ab332a"
  },
  {
   "cell_type": "code",
   "outputs": [
    {
     "name": "stdout",
     "output_type": "stream",
     "text": [
      "World!\n"
     ]
    }
   ],
   "source": [
    "dic = {\"K1\": \"Hello\", \"K2\": \"World!\", \"K3\":50}\n",
    "print(dic[\"K2\"])"
   ],
   "metadata": {
    "collapsed": false,
    "ExecuteTime": {
     "end_time": "2024-02-06T06:34:04.229442Z",
     "start_time": "2024-02-06T06:34:04.226173Z"
    }
   },
   "id": "d7914d7531c1dd13",
   "execution_count": 28
  },
  {
   "cell_type": "code",
   "outputs": [],
   "source": [],
   "metadata": {
    "collapsed": false
   },
   "id": "70f4282852b298aa"
  }
 ],
 "metadata": {
  "kernelspec": {
   "display_name": "Python 3",
   "language": "python",
   "name": "python3"
  },
  "language_info": {
   "codemirror_mode": {
    "name": "ipython",
    "version": 2
   },
   "file_extension": ".py",
   "mimetype": "text/x-python",
   "name": "python",
   "nbconvert_exporter": "python",
   "pygments_lexer": "ipython2",
   "version": "2.7.6"
  }
 },
 "nbformat": 4,
 "nbformat_minor": 5
}
