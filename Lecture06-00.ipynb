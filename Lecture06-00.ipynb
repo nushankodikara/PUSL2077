{
 "cells": [
  {
   "cell_type": "code",
   "execution_count": 1,
   "id": "initial_id",
   "metadata": {
    "collapsed": true,
    "ExecuteTime": {
     "end_time": "2024-03-05T04:23:54.093389Z",
     "start_time": "2024-03-05T04:23:54.078595Z"
    }
   },
   "outputs": [],
   "source": [
    "import pandas as pd  # for data manipulation\n",
    "import seaborn as sns  # for data visualization\n",
    "import matplotlib.pyplot as plt  # for data visualization\n",
    "import numpy as np  # for numerical operations\n",
    "import scipy.stats as scs  # for statistical analysis"
   ]
  },
  {
   "cell_type": "code",
   "outputs": [],
   "source": [
    "emp_df = pd.read_csv('datasets/employees.csv')"
   ],
   "metadata": {
    "collapsed": false,
    "ExecuteTime": {
     "end_time": "2024-03-05T04:24:11.994668Z",
     "start_time": "2024-03-05T04:24:11.958035Z"
    }
   },
   "id": "48d81bb6f4f28abe",
   "execution_count": 2
  },
  {
   "cell_type": "markdown",
   "source": [
    "## Drop First Name and Start Date"
   ],
   "metadata": {
    "collapsed": false
   },
   "id": "6444a60ceda16af5"
  },
  {
   "cell_type": "code",
   "outputs": [
    {
     "data": {
      "text/plain": "    First Name  Gender  Start Date Last Login Time  Salary  Bonus %  \\\n0      Douglas    Male    8/6/1993        12:42 PM   97308    6.945   \n1       Thomas    Male   3/31/1996         6:53 AM   61933    4.170   \n2        Maria  Female   4/23/1993        11:17 AM  130590   11.858   \n3        Jerry    Male    3/4/2005         1:00 PM  138705    9.340   \n4        Larry    Male   1/24/1998         4:47 PM  101004    1.389   \n..         ...     ...         ...             ...     ...      ...   \n995      Henry     NaN  11/23/2014         6:09 AM  132483   16.655   \n996    Phillip    Male   1/31/1984         6:30 AM   42392   19.675   \n997    Russell    Male   5/20/2013        12:39 PM   96914    1.421   \n998      Larry    Male   4/20/2013         4:45 PM   60500   11.985   \n999     Albert    Male   5/15/2012         6:24 PM  129949   10.169   \n\n    Senior Management                  Team  \n0                True             Marketing  \n1                True                   NaN  \n2               False               Finance  \n3                True               Finance  \n4                True       Client Services  \n..                ...                   ...  \n995             False          Distribution  \n996             False               Finance  \n997             False               Product  \n998             False  Business Development  \n999              True                 Sales  \n\n[1000 rows x 8 columns]",
      "text/html": "<div>\n<style scoped>\n    .dataframe tbody tr th:only-of-type {\n        vertical-align: middle;\n    }\n\n    .dataframe tbody tr th {\n        vertical-align: top;\n    }\n\n    .dataframe thead th {\n        text-align: right;\n    }\n</style>\n<table border=\"1\" class=\"dataframe\">\n  <thead>\n    <tr style=\"text-align: right;\">\n      <th></th>\n      <th>First Name</th>\n      <th>Gender</th>\n      <th>Start Date</th>\n      <th>Last Login Time</th>\n      <th>Salary</th>\n      <th>Bonus %</th>\n      <th>Senior Management</th>\n      <th>Team</th>\n    </tr>\n  </thead>\n  <tbody>\n    <tr>\n      <th>0</th>\n      <td>Douglas</td>\n      <td>Male</td>\n      <td>8/6/1993</td>\n      <td>12:42 PM</td>\n      <td>97308</td>\n      <td>6.945</td>\n      <td>True</td>\n      <td>Marketing</td>\n    </tr>\n    <tr>\n      <th>1</th>\n      <td>Thomas</td>\n      <td>Male</td>\n      <td>3/31/1996</td>\n      <td>6:53 AM</td>\n      <td>61933</td>\n      <td>4.170</td>\n      <td>True</td>\n      <td>NaN</td>\n    </tr>\n    <tr>\n      <th>2</th>\n      <td>Maria</td>\n      <td>Female</td>\n      <td>4/23/1993</td>\n      <td>11:17 AM</td>\n      <td>130590</td>\n      <td>11.858</td>\n      <td>False</td>\n      <td>Finance</td>\n    </tr>\n    <tr>\n      <th>3</th>\n      <td>Jerry</td>\n      <td>Male</td>\n      <td>3/4/2005</td>\n      <td>1:00 PM</td>\n      <td>138705</td>\n      <td>9.340</td>\n      <td>True</td>\n      <td>Finance</td>\n    </tr>\n    <tr>\n      <th>4</th>\n      <td>Larry</td>\n      <td>Male</td>\n      <td>1/24/1998</td>\n      <td>4:47 PM</td>\n      <td>101004</td>\n      <td>1.389</td>\n      <td>True</td>\n      <td>Client Services</td>\n    </tr>\n    <tr>\n      <th>...</th>\n      <td>...</td>\n      <td>...</td>\n      <td>...</td>\n      <td>...</td>\n      <td>...</td>\n      <td>...</td>\n      <td>...</td>\n      <td>...</td>\n    </tr>\n    <tr>\n      <th>995</th>\n      <td>Henry</td>\n      <td>NaN</td>\n      <td>11/23/2014</td>\n      <td>6:09 AM</td>\n      <td>132483</td>\n      <td>16.655</td>\n      <td>False</td>\n      <td>Distribution</td>\n    </tr>\n    <tr>\n      <th>996</th>\n      <td>Phillip</td>\n      <td>Male</td>\n      <td>1/31/1984</td>\n      <td>6:30 AM</td>\n      <td>42392</td>\n      <td>19.675</td>\n      <td>False</td>\n      <td>Finance</td>\n    </tr>\n    <tr>\n      <th>997</th>\n      <td>Russell</td>\n      <td>Male</td>\n      <td>5/20/2013</td>\n      <td>12:39 PM</td>\n      <td>96914</td>\n      <td>1.421</td>\n      <td>False</td>\n      <td>Product</td>\n    </tr>\n    <tr>\n      <th>998</th>\n      <td>Larry</td>\n      <td>Male</td>\n      <td>4/20/2013</td>\n      <td>4:45 PM</td>\n      <td>60500</td>\n      <td>11.985</td>\n      <td>False</td>\n      <td>Business Development</td>\n    </tr>\n    <tr>\n      <th>999</th>\n      <td>Albert</td>\n      <td>Male</td>\n      <td>5/15/2012</td>\n      <td>6:24 PM</td>\n      <td>129949</td>\n      <td>10.169</td>\n      <td>True</td>\n      <td>Sales</td>\n    </tr>\n  </tbody>\n</table>\n<p>1000 rows × 8 columns</p>\n</div>"
     },
     "execution_count": 9,
     "metadata": {},
     "output_type": "execute_result"
    }
   ],
   "source": [
    "emp_df"
   ],
   "metadata": {
    "collapsed": false,
    "ExecuteTime": {
     "end_time": "2024-03-05T04:34:01.319531Z",
     "start_time": "2024-03-05T04:34:01.297406Z"
    }
   },
   "id": "de0b6cf12d0db755",
   "execution_count": 9
  },
  {
   "cell_type": "code",
   "outputs": [
    {
     "data": {
      "text/plain": "     Gender Last Login Time  Salary  Bonus % Senior Management  \\\n0      Male        12:42 PM   97308    6.945              True   \n1      Male         6:53 AM   61933    4.170              True   \n2    Female        11:17 AM  130590   11.858             False   \n3      Male         1:00 PM  138705    9.340              True   \n4      Male         4:47 PM  101004    1.389              True   \n..      ...             ...     ...      ...               ...   \n995     NaN         6:09 AM  132483   16.655             False   \n996    Male         6:30 AM   42392   19.675             False   \n997    Male        12:39 PM   96914    1.421             False   \n998    Male         4:45 PM   60500   11.985             False   \n999    Male         6:24 PM  129949   10.169              True   \n\n                     Team  \n0               Marketing  \n1                     NaN  \n2                 Finance  \n3                 Finance  \n4         Client Services  \n..                    ...  \n995          Distribution  \n996               Finance  \n997               Product  \n998  Business Development  \n999                 Sales  \n\n[1000 rows x 6 columns]",
      "text/html": "<div>\n<style scoped>\n    .dataframe tbody tr th:only-of-type {\n        vertical-align: middle;\n    }\n\n    .dataframe tbody tr th {\n        vertical-align: top;\n    }\n\n    .dataframe thead th {\n        text-align: right;\n    }\n</style>\n<table border=\"1\" class=\"dataframe\">\n  <thead>\n    <tr style=\"text-align: right;\">\n      <th></th>\n      <th>Gender</th>\n      <th>Last Login Time</th>\n      <th>Salary</th>\n      <th>Bonus %</th>\n      <th>Senior Management</th>\n      <th>Team</th>\n    </tr>\n  </thead>\n  <tbody>\n    <tr>\n      <th>0</th>\n      <td>Male</td>\n      <td>12:42 PM</td>\n      <td>97308</td>\n      <td>6.945</td>\n      <td>True</td>\n      <td>Marketing</td>\n    </tr>\n    <tr>\n      <th>1</th>\n      <td>Male</td>\n      <td>6:53 AM</td>\n      <td>61933</td>\n      <td>4.170</td>\n      <td>True</td>\n      <td>NaN</td>\n    </tr>\n    <tr>\n      <th>2</th>\n      <td>Female</td>\n      <td>11:17 AM</td>\n      <td>130590</td>\n      <td>11.858</td>\n      <td>False</td>\n      <td>Finance</td>\n    </tr>\n    <tr>\n      <th>3</th>\n      <td>Male</td>\n      <td>1:00 PM</td>\n      <td>138705</td>\n      <td>9.340</td>\n      <td>True</td>\n      <td>Finance</td>\n    </tr>\n    <tr>\n      <th>4</th>\n      <td>Male</td>\n      <td>4:47 PM</td>\n      <td>101004</td>\n      <td>1.389</td>\n      <td>True</td>\n      <td>Client Services</td>\n    </tr>\n    <tr>\n      <th>...</th>\n      <td>...</td>\n      <td>...</td>\n      <td>...</td>\n      <td>...</td>\n      <td>...</td>\n      <td>...</td>\n    </tr>\n    <tr>\n      <th>995</th>\n      <td>NaN</td>\n      <td>6:09 AM</td>\n      <td>132483</td>\n      <td>16.655</td>\n      <td>False</td>\n      <td>Distribution</td>\n    </tr>\n    <tr>\n      <th>996</th>\n      <td>Male</td>\n      <td>6:30 AM</td>\n      <td>42392</td>\n      <td>19.675</td>\n      <td>False</td>\n      <td>Finance</td>\n    </tr>\n    <tr>\n      <th>997</th>\n      <td>Male</td>\n      <td>12:39 PM</td>\n      <td>96914</td>\n      <td>1.421</td>\n      <td>False</td>\n      <td>Product</td>\n    </tr>\n    <tr>\n      <th>998</th>\n      <td>Male</td>\n      <td>4:45 PM</td>\n      <td>60500</td>\n      <td>11.985</td>\n      <td>False</td>\n      <td>Business Development</td>\n    </tr>\n    <tr>\n      <th>999</th>\n      <td>Male</td>\n      <td>6:24 PM</td>\n      <td>129949</td>\n      <td>10.169</td>\n      <td>True</td>\n      <td>Sales</td>\n    </tr>\n  </tbody>\n</table>\n<p>1000 rows × 6 columns</p>\n</div>"
     },
     "execution_count": 11,
     "metadata": {},
     "output_type": "execute_result"
    }
   ],
   "source": [
    "drop = ['First Name', 'Start Date']\n",
    "\n",
    "emp_df.drop(drop, axis=1)"
   ],
   "metadata": {
    "collapsed": false,
    "ExecuteTime": {
     "end_time": "2024-03-05T04:35:58.083151Z",
     "start_time": "2024-03-05T04:35:58.076994Z"
    }
   },
   "id": "f1e5a651e09a0a1a",
   "execution_count": 11
  },
  {
   "cell_type": "markdown",
   "source": [
    "## Iloc and loc\n",
    "- loc[] is used to access data by label, allowing for explicit row and column selection based on their labels in the index, while iloc[] is used for integer-based indexing, where rows and columns are accessed by their integer positions."
   ],
   "metadata": {
    "collapsed": false
   },
   "id": "613d3d311c83568e"
  },
  {
   "cell_type": "code",
   "outputs": [],
   "source": [
    "df_2 = pd.read_csv('datasets/employees.csv')"
   ],
   "metadata": {
    "collapsed": false,
    "ExecuteTime": {
     "end_time": "2024-03-05T04:37:33.423099Z",
     "start_time": "2024-03-05T04:37:33.408932Z"
    }
   },
   "id": "4acaa246bffbe290",
   "execution_count": 12
  },
  {
   "cell_type": "code",
   "outputs": [
    {
     "data": {
      "text/plain": "    First Name  Gender  Start Date Last Login Time  Salary  Bonus %  \\\n2        Maria  Female   4/23/1993        11:17 AM  130590   11.858   \n9      Frances  Female    8/8/2002         6:51 AM  139852    7.524   \n11       Julie  Female  10/26/1997         3:19 PM  102508   12.637   \n18       Diana  Female  10/23/1981        10:27 AM  132940   19.082   \n30   Christina  Female    8/6/2002         1:19 PM  118780    9.096   \n..         ...     ...         ...             ...     ...      ...   \n976     Denise  Female  10/19/1992         5:42 AM  137954    4.195   \n977      Sarah  Female   12/4/1995         9:16 AM  124566    5.949   \n987     Gloria  Female   12/8/2014         5:08 AM  136709   10.331   \n990      Robin  Female   7/24/1987         1:35 PM  100765   10.982   \n991       Rose  Female   8/25/2002         5:12 AM  134505   11.051   \n\n    Senior Management                  Team  \n2               False               Finance  \n9                True  Business Development  \n11               True                 Legal  \n18              False       Client Services  \n30               True           Engineering  \n..                ...                   ...  \n976              True                 Legal  \n977             False               Product  \n987              True               Finance  \n990              True       Client Services  \n991              True             Marketing  \n\n[176 rows x 8 columns]",
      "text/html": "<div>\n<style scoped>\n    .dataframe tbody tr th:only-of-type {\n        vertical-align: middle;\n    }\n\n    .dataframe tbody tr th {\n        vertical-align: top;\n    }\n\n    .dataframe thead th {\n        text-align: right;\n    }\n</style>\n<table border=\"1\" class=\"dataframe\">\n  <thead>\n    <tr style=\"text-align: right;\">\n      <th></th>\n      <th>First Name</th>\n      <th>Gender</th>\n      <th>Start Date</th>\n      <th>Last Login Time</th>\n      <th>Salary</th>\n      <th>Bonus %</th>\n      <th>Senior Management</th>\n      <th>Team</th>\n    </tr>\n  </thead>\n  <tbody>\n    <tr>\n      <th>2</th>\n      <td>Maria</td>\n      <td>Female</td>\n      <td>4/23/1993</td>\n      <td>11:17 AM</td>\n      <td>130590</td>\n      <td>11.858</td>\n      <td>False</td>\n      <td>Finance</td>\n    </tr>\n    <tr>\n      <th>9</th>\n      <td>Frances</td>\n      <td>Female</td>\n      <td>8/8/2002</td>\n      <td>6:51 AM</td>\n      <td>139852</td>\n      <td>7.524</td>\n      <td>True</td>\n      <td>Business Development</td>\n    </tr>\n    <tr>\n      <th>11</th>\n      <td>Julie</td>\n      <td>Female</td>\n      <td>10/26/1997</td>\n      <td>3:19 PM</td>\n      <td>102508</td>\n      <td>12.637</td>\n      <td>True</td>\n      <td>Legal</td>\n    </tr>\n    <tr>\n      <th>18</th>\n      <td>Diana</td>\n      <td>Female</td>\n      <td>10/23/1981</td>\n      <td>10:27 AM</td>\n      <td>132940</td>\n      <td>19.082</td>\n      <td>False</td>\n      <td>Client Services</td>\n    </tr>\n    <tr>\n      <th>30</th>\n      <td>Christina</td>\n      <td>Female</td>\n      <td>8/6/2002</td>\n      <td>1:19 PM</td>\n      <td>118780</td>\n      <td>9.096</td>\n      <td>True</td>\n      <td>Engineering</td>\n    </tr>\n    <tr>\n      <th>...</th>\n      <td>...</td>\n      <td>...</td>\n      <td>...</td>\n      <td>...</td>\n      <td>...</td>\n      <td>...</td>\n      <td>...</td>\n      <td>...</td>\n    </tr>\n    <tr>\n      <th>976</th>\n      <td>Denise</td>\n      <td>Female</td>\n      <td>10/19/1992</td>\n      <td>5:42 AM</td>\n      <td>137954</td>\n      <td>4.195</td>\n      <td>True</td>\n      <td>Legal</td>\n    </tr>\n    <tr>\n      <th>977</th>\n      <td>Sarah</td>\n      <td>Female</td>\n      <td>12/4/1995</td>\n      <td>9:16 AM</td>\n      <td>124566</td>\n      <td>5.949</td>\n      <td>False</td>\n      <td>Product</td>\n    </tr>\n    <tr>\n      <th>987</th>\n      <td>Gloria</td>\n      <td>Female</td>\n      <td>12/8/2014</td>\n      <td>5:08 AM</td>\n      <td>136709</td>\n      <td>10.331</td>\n      <td>True</td>\n      <td>Finance</td>\n    </tr>\n    <tr>\n      <th>990</th>\n      <td>Robin</td>\n      <td>Female</td>\n      <td>7/24/1987</td>\n      <td>1:35 PM</td>\n      <td>100765</td>\n      <td>10.982</td>\n      <td>True</td>\n      <td>Client Services</td>\n    </tr>\n    <tr>\n      <th>991</th>\n      <td>Rose</td>\n      <td>Female</td>\n      <td>8/25/2002</td>\n      <td>5:12 AM</td>\n      <td>134505</td>\n      <td>11.051</td>\n      <td>True</td>\n      <td>Marketing</td>\n    </tr>\n  </tbody>\n</table>\n<p>176 rows × 8 columns</p>\n</div>"
     },
     "execution_count": 25,
     "metadata": {},
     "output_type": "execute_result"
    }
   ],
   "source": [
    "df_2_1 = df_2.loc[(df_2['Gender']=='Female') & (df_2['Salary'] >= 100000)]\n",
    "df_2_1"
   ],
   "metadata": {
    "collapsed": false,
    "ExecuteTime": {
     "end_time": "2024-03-05T04:47:48.639220Z",
     "start_time": "2024-03-05T04:47:48.627976Z"
    }
   },
   "id": "6c1dbdb653d8afd2",
   "execution_count": 25
  },
  {
   "cell_type": "code",
   "outputs": [
    {
     "data": {
      "text/plain": "    First Name  Gender\n900  Christina  Female\n901   Patricia  Female\n902        NaN    Male\n903    Heather  Female\n904  Stephanie  Female\n905      Alice  Female\n906    Frances  Female\n907  Elizabeth  Female\n908     Janice  Female\n909     Donald    Male\n910    Melissa  Female\n911       Carl    Male\n912        Joe    Male\n913       Lois  Female\n914        Ann  Female\n915       Todd    Male\n916    Marilyn  Female\n917      Shawn    Male\n918       Ryan    Male\n919       Sean    Male",
      "text/html": "<div>\n<style scoped>\n    .dataframe tbody tr th:only-of-type {\n        vertical-align: middle;\n    }\n\n    .dataframe tbody tr th {\n        vertical-align: top;\n    }\n\n    .dataframe thead th {\n        text-align: right;\n    }\n</style>\n<table border=\"1\" class=\"dataframe\">\n  <thead>\n    <tr style=\"text-align: right;\">\n      <th></th>\n      <th>First Name</th>\n      <th>Gender</th>\n    </tr>\n  </thead>\n  <tbody>\n    <tr>\n      <th>900</th>\n      <td>Christina</td>\n      <td>Female</td>\n    </tr>\n    <tr>\n      <th>901</th>\n      <td>Patricia</td>\n      <td>Female</td>\n    </tr>\n    <tr>\n      <th>902</th>\n      <td>NaN</td>\n      <td>Male</td>\n    </tr>\n    <tr>\n      <th>903</th>\n      <td>Heather</td>\n      <td>Female</td>\n    </tr>\n    <tr>\n      <th>904</th>\n      <td>Stephanie</td>\n      <td>Female</td>\n    </tr>\n    <tr>\n      <th>905</th>\n      <td>Alice</td>\n      <td>Female</td>\n    </tr>\n    <tr>\n      <th>906</th>\n      <td>Frances</td>\n      <td>Female</td>\n    </tr>\n    <tr>\n      <th>907</th>\n      <td>Elizabeth</td>\n      <td>Female</td>\n    </tr>\n    <tr>\n      <th>908</th>\n      <td>Janice</td>\n      <td>Female</td>\n    </tr>\n    <tr>\n      <th>909</th>\n      <td>Donald</td>\n      <td>Male</td>\n    </tr>\n    <tr>\n      <th>910</th>\n      <td>Melissa</td>\n      <td>Female</td>\n    </tr>\n    <tr>\n      <th>911</th>\n      <td>Carl</td>\n      <td>Male</td>\n    </tr>\n    <tr>\n      <th>912</th>\n      <td>Joe</td>\n      <td>Male</td>\n    </tr>\n    <tr>\n      <th>913</th>\n      <td>Lois</td>\n      <td>Female</td>\n    </tr>\n    <tr>\n      <th>914</th>\n      <td>Ann</td>\n      <td>Female</td>\n    </tr>\n    <tr>\n      <th>915</th>\n      <td>Todd</td>\n      <td>Male</td>\n    </tr>\n    <tr>\n      <th>916</th>\n      <td>Marilyn</td>\n      <td>Female</td>\n    </tr>\n    <tr>\n      <th>917</th>\n      <td>Shawn</td>\n      <td>Male</td>\n    </tr>\n    <tr>\n      <th>918</th>\n      <td>Ryan</td>\n      <td>Male</td>\n    </tr>\n    <tr>\n      <th>919</th>\n      <td>Sean</td>\n      <td>Male</td>\n    </tr>\n  </tbody>\n</table>\n</div>"
     },
     "execution_count": 28,
     "metadata": {},
     "output_type": "execute_result"
    }
   ],
   "source": [
    "df_2_2 = df_2.iloc[900:920,0:2]\n",
    "df_2_2"
   ],
   "metadata": {
    "collapsed": false,
    "ExecuteTime": {
     "end_time": "2024-03-05T04:53:16.265061Z",
     "start_time": "2024-03-05T04:53:16.251541Z"
    }
   },
   "id": "39096affd3625625",
   "execution_count": 28
  },
  {
   "cell_type": "code",
   "outputs": [],
   "source": [],
   "metadata": {
    "collapsed": false
   },
   "id": "c70e919de18be196"
  }
 ],
 "metadata": {
  "kernelspec": {
   "display_name": "Python 3",
   "language": "python",
   "name": "python3"
  },
  "language_info": {
   "codemirror_mode": {
    "name": "ipython",
    "version": 2
   },
   "file_extension": ".py",
   "mimetype": "text/x-python",
   "name": "python",
   "nbconvert_exporter": "python",
   "pygments_lexer": "ipython2",
   "version": "2.7.6"
  }
 },
 "nbformat": 4,
 "nbformat_minor": 5
}
